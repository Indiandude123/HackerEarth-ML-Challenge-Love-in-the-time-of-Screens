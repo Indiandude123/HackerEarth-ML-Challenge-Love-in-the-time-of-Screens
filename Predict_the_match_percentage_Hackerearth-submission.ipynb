{
 "cells": [
  {
   "cell_type": "code",
   "execution_count": 1,
   "metadata": {},
   "outputs": [],
   "source": [
    "#importing the libraries\n",
    "import warnings\n",
    "warnings.filterwarnings(\"ignore\")\n",
    "import pandas as pd\n",
    "import numpy as np\n",
    "import matplotlib.pyplot as plt\n",
    "import seaborn as sns\n",
    "import os\n",
    "from sklearn.feature_extraction.text import TfidfVectorizer\n",
    "from sklearn.feature_extraction.text import CountVectorizer\n",
    "import re\n",
    "from nltk.corpus import stopwords\n",
    "import nltk\n",
    "from nltk.tokenize import word_tokenize\n",
    "from nltk.stem.snowball import SnowballStemmer \n",
    "from scipy.sparse import csr_matrix\n",
    "from tqdm import tqdm\n",
    "from sklearn.preprocessing import StandardScaler\n",
    "from sklearn.metrics import pairwise_distances\n",
    "from scipy.sparse import hstack\n",
    "\n",
    "%matplotlib inline"
   ]
  },
  {
   "cell_type": "markdown",
   "metadata": {},
   "source": [
    "# 1. Data overview"
   ]
  },
  {
   "cell_type": "code",
   "execution_count": 2,
   "metadata": {},
   "outputs": [],
   "source": [
    "df = pd.read_csv(r'C:\\Users\\Anamitra Singha\\Desktop\\ML CHALLENGE\\dataset\\data.csv')"
   ]
  },
  {
   "cell_type": "code",
   "execution_count": 3,
   "metadata": {},
   "outputs": [
    {
     "data": {
      "text/html": [
       "<div>\n",
       "<style scoped>\n",
       "    .dataframe tbody tr th:only-of-type {\n",
       "        vertical-align: middle;\n",
       "    }\n",
       "\n",
       "    .dataframe tbody tr th {\n",
       "        vertical-align: top;\n",
       "    }\n",
       "\n",
       "    .dataframe thead th {\n",
       "        text-align: right;\n",
       "    }\n",
       "</style>\n",
       "<table border=\"1\" class=\"dataframe\">\n",
       "  <thead>\n",
       "    <tr style=\"text-align: right;\">\n",
       "      <th></th>\n",
       "      <th>user_id</th>\n",
       "      <th>username</th>\n",
       "      <th>age</th>\n",
       "      <th>status</th>\n",
       "      <th>sex</th>\n",
       "      <th>orientation</th>\n",
       "      <th>drinks</th>\n",
       "      <th>drugs</th>\n",
       "      <th>height</th>\n",
       "      <th>job</th>\n",
       "      <th>...</th>\n",
       "      <th>smokes</th>\n",
       "      <th>language</th>\n",
       "      <th>new_languages</th>\n",
       "      <th>body_profile</th>\n",
       "      <th>education_level</th>\n",
       "      <th>dropped_out</th>\n",
       "      <th>bio</th>\n",
       "      <th>interests</th>\n",
       "      <th>other_interests</th>\n",
       "      <th>location_preference</th>\n",
       "    </tr>\n",
       "  </thead>\n",
       "  <tbody>\n",
       "    <tr>\n",
       "      <td>0</td>\n",
       "      <td>fffe3100</td>\n",
       "      <td>Edith Lopez</td>\n",
       "      <td>27</td>\n",
       "      <td>single</td>\n",
       "      <td>f</td>\n",
       "      <td>gay</td>\n",
       "      <td>socially</td>\n",
       "      <td>never</td>\n",
       "      <td>66.0</td>\n",
       "      <td>medicine / health</td>\n",
       "      <td>...</td>\n",
       "      <td>no</td>\n",
       "      <td>english (fluently), spanish (poorly), sign lan...</td>\n",
       "      <td>interested</td>\n",
       "      <td>athletic</td>\n",
       "      <td>4.0</td>\n",
       "      <td>no</td>\n",
       "      <td>bottom line i love life! i work hard and i lov...</td>\n",
       "      <td>sports</td>\n",
       "      <td>instruments</td>\n",
       "      <td>same state</td>\n",
       "    </tr>\n",
       "    <tr>\n",
       "      <td>1</td>\n",
       "      <td>fffe3200</td>\n",
       "      <td>Travis Young</td>\n",
       "      <td>26</td>\n",
       "      <td>single</td>\n",
       "      <td>m</td>\n",
       "      <td>gay</td>\n",
       "      <td>socially</td>\n",
       "      <td>never</td>\n",
       "      <td>68.0</td>\n",
       "      <td>other</td>\n",
       "      <td>...</td>\n",
       "      <td>no</td>\n",
       "      <td>english (fluently), tagalog (okay), french (po...</td>\n",
       "      <td>interested</td>\n",
       "      <td>fit</td>\n",
       "      <td>3.0</td>\n",
       "      <td>no</td>\n",
       "      <td>i'm a straightforward, genuine, fun loving (i'...</td>\n",
       "      <td>painting</td>\n",
       "      <td>instruments</td>\n",
       "      <td>anywhere</td>\n",
       "    </tr>\n",
       "    <tr>\n",
       "      <td>2</td>\n",
       "      <td>fffe3300</td>\n",
       "      <td>Agnes Smith</td>\n",
       "      <td>20</td>\n",
       "      <td>seeing someone</td>\n",
       "      <td>f</td>\n",
       "      <td>bisexual</td>\n",
       "      <td>socially</td>\n",
       "      <td>sometimes</td>\n",
       "      <td>69.0</td>\n",
       "      <td>other</td>\n",
       "      <td>...</td>\n",
       "      <td>sometimes</td>\n",
       "      <td>english (fluently), sign language (poorly), fr...</td>\n",
       "      <td>interested</td>\n",
       "      <td>fit</td>\n",
       "      <td>2.0</td>\n",
       "      <td>no</td>\n",
       "      <td>mmmmm yummy tacosss. yoga is where it's at. i ...</td>\n",
       "      <td>instruments</td>\n",
       "      <td>dancing</td>\n",
       "      <td>same city</td>\n",
       "    </tr>\n",
       "    <tr>\n",
       "      <td>3</td>\n",
       "      <td>fffe3400</td>\n",
       "      <td>Salvador Klaver</td>\n",
       "      <td>27</td>\n",
       "      <td>single</td>\n",
       "      <td>m</td>\n",
       "      <td>bisexual</td>\n",
       "      <td>socially</td>\n",
       "      <td>sometimes</td>\n",
       "      <td>68.0</td>\n",
       "      <td>computer / hardware / software</td>\n",
       "      <td>...</td>\n",
       "      <td>no</td>\n",
       "      <td>english</td>\n",
       "      <td>not interested</td>\n",
       "      <td>average</td>\n",
       "      <td>3.0</td>\n",
       "      <td>no</td>\n",
       "      <td>i'm a stealth geek. that special mix of techni...</td>\n",
       "      <td>sketching</td>\n",
       "      <td>acting</td>\n",
       "      <td>same city</td>\n",
       "    </tr>\n",
       "    <tr>\n",
       "      <td>4</td>\n",
       "      <td>fffe3500</td>\n",
       "      <td>Elana Sewell</td>\n",
       "      <td>22</td>\n",
       "      <td>single</td>\n",
       "      <td>f</td>\n",
       "      <td>bisexual</td>\n",
       "      <td>often</td>\n",
       "      <td>sometimes</td>\n",
       "      <td>68.0</td>\n",
       "      <td>other</td>\n",
       "      <td>...</td>\n",
       "      <td>yes</td>\n",
       "      <td>english</td>\n",
       "      <td>not interested</td>\n",
       "      <td>average</td>\n",
       "      <td>2.0</td>\n",
       "      <td>yes</td>\n",
       "      <td>with the whisper of the wind i was weaved into...</td>\n",
       "      <td>craft</td>\n",
       "      <td>designing</td>\n",
       "      <td>same city</td>\n",
       "    </tr>\n",
       "    <tr>\n",
       "      <td>...</td>\n",
       "      <td>...</td>\n",
       "      <td>...</td>\n",
       "      <td>...</td>\n",
       "      <td>...</td>\n",
       "      <td>...</td>\n",
       "      <td>...</td>\n",
       "      <td>...</td>\n",
       "      <td>...</td>\n",
       "      <td>...</td>\n",
       "      <td>...</td>\n",
       "      <td>...</td>\n",
       "      <td>...</td>\n",
       "      <td>...</td>\n",
       "      <td>...</td>\n",
       "      <td>...</td>\n",
       "      <td>...</td>\n",
       "      <td>...</td>\n",
       "      <td>...</td>\n",
       "      <td>...</td>\n",
       "      <td>...</td>\n",
       "      <td>...</td>\n",
       "    </tr>\n",
       "    <tr>\n",
       "      <td>1996</td>\n",
       "      <td>fffe3100390039003700</td>\n",
       "      <td>Reynaldo Ellis</td>\n",
       "      <td>24</td>\n",
       "      <td>single</td>\n",
       "      <td>m</td>\n",
       "      <td>straight</td>\n",
       "      <td>socially</td>\n",
       "      <td>never</td>\n",
       "      <td>69.0</td>\n",
       "      <td>student</td>\n",
       "      <td>...</td>\n",
       "      <td>yes</td>\n",
       "      <td>english</td>\n",
       "      <td>not interested</td>\n",
       "      <td>average</td>\n",
       "      <td>2.0</td>\n",
       "      <td>no</td>\n",
       "      <td>i grew up playing instruments and singing and ...</td>\n",
       "      <td>craft</td>\n",
       "      <td>reading</td>\n",
       "      <td>same city</td>\n",
       "    </tr>\n",
       "    <tr>\n",
       "      <td>1997</td>\n",
       "      <td>fffe3100390039003800</td>\n",
       "      <td>Laura Adams</td>\n",
       "      <td>23</td>\n",
       "      <td>single</td>\n",
       "      <td>f</td>\n",
       "      <td>gay</td>\n",
       "      <td>socially</td>\n",
       "      <td>never</td>\n",
       "      <td>68.0</td>\n",
       "      <td>sales / marketing / biz dev</td>\n",
       "      <td>...</td>\n",
       "      <td>no</td>\n",
       "      <td>english</td>\n",
       "      <td>not interested</td>\n",
       "      <td>athletic</td>\n",
       "      <td>2.0</td>\n",
       "      <td>no</td>\n",
       "      <td>im a 23 yr old female born and raised in color...</td>\n",
       "      <td>makeup</td>\n",
       "      <td>acting</td>\n",
       "      <td>same state</td>\n",
       "    </tr>\n",
       "    <tr>\n",
       "      <td>1998</td>\n",
       "      <td>fffe3100390039003900</td>\n",
       "      <td>Daniel Duran</td>\n",
       "      <td>28</td>\n",
       "      <td>single</td>\n",
       "      <td>m</td>\n",
       "      <td>straight</td>\n",
       "      <td>rarely</td>\n",
       "      <td>never</td>\n",
       "      <td>71.0</td>\n",
       "      <td>sales / marketing / biz dev</td>\n",
       "      <td>...</td>\n",
       "      <td>no</td>\n",
       "      <td>english</td>\n",
       "      <td>not interested</td>\n",
       "      <td>athletic</td>\n",
       "      <td>3.0</td>\n",
       "      <td>no</td>\n",
       "      <td>i've spent the last 10 years working in the ou...</td>\n",
       "      <td>singing</td>\n",
       "      <td>politics</td>\n",
       "      <td>anywhere</td>\n",
       "    </tr>\n",
       "    <tr>\n",
       "      <td>1999</td>\n",
       "      <td>fffe3200300030003000</td>\n",
       "      <td>Robert Orr</td>\n",
       "      <td>32</td>\n",
       "      <td>seeing someone</td>\n",
       "      <td>m</td>\n",
       "      <td>straight</td>\n",
       "      <td>not at all</td>\n",
       "      <td>never</td>\n",
       "      <td>68.0</td>\n",
       "      <td>other</td>\n",
       "      <td>...</td>\n",
       "      <td>no</td>\n",
       "      <td>english (fluently), japanese (okay)</td>\n",
       "      <td>somewhat interested</td>\n",
       "      <td>thin</td>\n",
       "      <td>3.0</td>\n",
       "      <td>no</td>\n",
       "      <td>i am that i am.  more and more, my spiritual l...</td>\n",
       "      <td>music</td>\n",
       "      <td>cooking</td>\n",
       "      <td>same city</td>\n",
       "    </tr>\n",
       "    <tr>\n",
       "      <td>2000</td>\n",
       "      <td>fffe3200300030003100</td>\n",
       "      <td>Mildred Harwell</td>\n",
       "      <td>41</td>\n",
       "      <td>single</td>\n",
       "      <td>f</td>\n",
       "      <td>straight</td>\n",
       "      <td>socially</td>\n",
       "      <td>never</td>\n",
       "      <td>67.0</td>\n",
       "      <td>artistic / musical / writer</td>\n",
       "      <td>...</td>\n",
       "      <td>no</td>\n",
       "      <td>english (fluently), spanish (okay)</td>\n",
       "      <td>somewhat interested</td>\n",
       "      <td>curvy</td>\n",
       "      <td>2.0</td>\n",
       "      <td>no</td>\n",
       "      <td>love travel, love food, love wine and love sat...</td>\n",
       "      <td>movies</td>\n",
       "      <td>makeup</td>\n",
       "      <td>anywhere</td>\n",
       "    </tr>\n",
       "  </tbody>\n",
       "</table>\n",
       "<p>2001 rows × 22 columns</p>\n",
       "</div>"
      ],
      "text/plain": [
       "                   user_id         username  age          status sex  \\\n",
       "0                 fffe3100      Edith Lopez   27          single   f   \n",
       "1                 fffe3200     Travis Young   26          single   m   \n",
       "2                 fffe3300      Agnes Smith   20  seeing someone   f   \n",
       "3                 fffe3400  Salvador Klaver   27          single   m   \n",
       "4                 fffe3500     Elana Sewell   22          single   f   \n",
       "...                    ...              ...  ...             ...  ..   \n",
       "1996  fffe3100390039003700   Reynaldo Ellis   24          single   m   \n",
       "1997  fffe3100390039003800      Laura Adams   23          single   f   \n",
       "1998  fffe3100390039003900     Daniel Duran   28          single   m   \n",
       "1999  fffe3200300030003000       Robert Orr   32  seeing someone   m   \n",
       "2000  fffe3200300030003100  Mildred Harwell   41          single   f   \n",
       "\n",
       "     orientation      drinks      drugs  height  \\\n",
       "0            gay    socially      never    66.0   \n",
       "1            gay    socially      never    68.0   \n",
       "2       bisexual    socially  sometimes    69.0   \n",
       "3       bisexual    socially  sometimes    68.0   \n",
       "4       bisexual       often  sometimes    68.0   \n",
       "...          ...         ...        ...     ...   \n",
       "1996    straight    socially      never    69.0   \n",
       "1997         gay    socially      never    68.0   \n",
       "1998    straight      rarely      never    71.0   \n",
       "1999    straight  not at all      never    68.0   \n",
       "2000    straight    socially      never    67.0   \n",
       "\n",
       "                                 job  ...     smokes  \\\n",
       "0                  medicine / health  ...         no   \n",
       "1                              other  ...         no   \n",
       "2                              other  ...  sometimes   \n",
       "3     computer / hardware / software  ...         no   \n",
       "4                              other  ...        yes   \n",
       "...                              ...  ...        ...   \n",
       "1996                         student  ...        yes   \n",
       "1997     sales / marketing / biz dev  ...         no   \n",
       "1998     sales / marketing / biz dev  ...         no   \n",
       "1999                           other  ...         no   \n",
       "2000     artistic / musical / writer  ...         no   \n",
       "\n",
       "                                               language        new_languages  \\\n",
       "0     english (fluently), spanish (poorly), sign lan...           interested   \n",
       "1     english (fluently), tagalog (okay), french (po...           interested   \n",
       "2     english (fluently), sign language (poorly), fr...           interested   \n",
       "3                                               english       not interested   \n",
       "4                                               english       not interested   \n",
       "...                                                 ...                  ...   \n",
       "1996                                            english       not interested   \n",
       "1997                                            english       not interested   \n",
       "1998                                            english       not interested   \n",
       "1999                english (fluently), japanese (okay)  somewhat interested   \n",
       "2000                 english (fluently), spanish (okay)  somewhat interested   \n",
       "\n",
       "     body_profile education_level dropped_out  \\\n",
       "0        athletic             4.0          no   \n",
       "1             fit             3.0          no   \n",
       "2             fit             2.0          no   \n",
       "3         average             3.0          no   \n",
       "4         average             2.0         yes   \n",
       "...           ...             ...         ...   \n",
       "1996      average             2.0          no   \n",
       "1997     athletic             2.0          no   \n",
       "1998     athletic             3.0          no   \n",
       "1999         thin             3.0          no   \n",
       "2000        curvy             2.0          no   \n",
       "\n",
       "                                                    bio    interests  \\\n",
       "0     bottom line i love life! i work hard and i lov...       sports   \n",
       "1     i'm a straightforward, genuine, fun loving (i'...     painting   \n",
       "2     mmmmm yummy tacosss. yoga is where it's at. i ...  instruments   \n",
       "3     i'm a stealth geek. that special mix of techni...    sketching   \n",
       "4     with the whisper of the wind i was weaved into...        craft   \n",
       "...                                                 ...          ...   \n",
       "1996  i grew up playing instruments and singing and ...        craft   \n",
       "1997  im a 23 yr old female born and raised in color...       makeup   \n",
       "1998  i've spent the last 10 years working in the ou...      singing   \n",
       "1999  i am that i am.  more and more, my spiritual l...        music   \n",
       "2000  love travel, love food, love wine and love sat...       movies   \n",
       "\n",
       "     other_interests location_preference  \n",
       "0        instruments          same state  \n",
       "1        instruments            anywhere  \n",
       "2            dancing           same city  \n",
       "3             acting           same city  \n",
       "4          designing           same city  \n",
       "...              ...                 ...  \n",
       "1996         reading           same city  \n",
       "1997          acting          same state  \n",
       "1998        politics            anywhere  \n",
       "1999         cooking           same city  \n",
       "2000          makeup            anywhere  \n",
       "\n",
       "[2001 rows x 22 columns]"
      ]
     },
     "execution_count": 3,
     "metadata": {},
     "output_type": "execute_result"
    }
   ],
   "source": [
    "df"
   ]
  },
  {
   "cell_type": "code",
   "execution_count": 4,
   "metadata": {},
   "outputs": [
    {
     "data": {
      "text/plain": [
       "(2001, 22)"
      ]
     },
     "execution_count": 4,
     "metadata": {},
     "output_type": "execute_result"
    }
   ],
   "source": [
    "df.shape"
   ]
  },
  {
   "cell_type": "code",
   "execution_count": 5,
   "metadata": {},
   "outputs": [
    {
     "data": {
      "text/plain": [
       "Index(['user_id', 'username', 'age', 'status', 'sex', 'orientation', 'drinks',\n",
       "       'drugs', 'height', 'job', 'location', 'pets', 'smokes', 'language',\n",
       "       'new_languages', 'body_profile', 'education_level', 'dropped_out',\n",
       "       'bio', 'interests', 'other_interests', 'location_preference'],\n",
       "      dtype='object')"
      ]
     },
     "execution_count": 5,
     "metadata": {},
     "output_type": "execute_result"
    }
   ],
   "source": [
    "df.columns"
   ]
  },
  {
   "cell_type": "markdown",
   "metadata": {},
   "source": [
    "### 1.1 Checking for NULL values"
   ]
  },
  {
   "cell_type": "code",
   "execution_count": 6,
   "metadata": {},
   "outputs": [
    {
     "name": "stdout",
     "output_type": "stream",
     "text": [
      "No of NULL values :  0\n"
     ]
    }
   ],
   "source": [
    "print(\"No of NULL values : \", sum(df.isnull().any()))"
   ]
  },
  {
   "cell_type": "markdown",
   "metadata": {},
   "source": [
    "### 1.2 Handling duplicate users"
   ]
  },
  {
   "cell_type": "code",
   "execution_count": 7,
   "metadata": {},
   "outputs": [
    {
     "name": "stdout",
     "output_type": "stream",
     "text": [
      "There are 0 duplicate users in the data..\n"
     ]
    }
   ],
   "source": [
    "duplicates = df.duplicated()\n",
    "print(\"There are {} duplicate users in the data..\".format(sum(duplicates)))"
   ]
  },
  {
   "cell_type": "markdown",
   "metadata": {},
   "source": [
    "# 2. Exploratory Data Analysis"
   ]
  },
  {
   "cell_type": "markdown",
   "metadata": {},
   "source": [
    "Let's try to visualise some of the features which seem relevant"
   ]
  },
  {
   "cell_type": "markdown",
   "metadata": {},
   "source": [
    "### 2.1 'age'"
   ]
  },
  {
   "cell_type": "code",
   "execution_count": 8,
   "metadata": {},
   "outputs": [
    {
     "data": {
      "image/png": "[encoded data removed]",
      "text/plain": [
       "<Figure size 432x288 with 1 Axes>"
      ]
     },
     "metadata": {
      "needs_background": "light"
     },
     "output_type": "display_data"
    },
    {
     "name": "stdout",
     "output_type": "stream",
     "text": [
      "==================================================\n",
      "count    2001.000000\n",
      "mean       33.072464\n",
      "std        10.483189\n",
      "min        18.000000\n",
      "25%        26.000000\n",
      "50%        30.000000\n",
      "75%        39.000000\n",
      "max        69.000000\n",
      "Name: age, dtype: float64\n"
     ]
    }
   ],
   "source": [
    "#univariate analysis of age\n",
    "sns.distplot(df['age'])\n",
    "plt.show()\n",
    "print('='*50)\n",
    "print(df['age'].describe())"
   ]
  },
  {
   "cell_type": "markdown",
   "metadata": {},
   "source": [
    "### 2.2 'status'"
   ]
  },
  {
   "cell_type": "code",
   "execution_count": 9,
   "metadata": {},
   "outputs": [
    {
     "data": {
      "image/png": "[encoded data removed]",
      "text/plain": [
       "<Figure size 432x288 with 1 Axes>"
      ]
     },
     "metadata": {
      "needs_background": "light"
     },
     "output_type": "display_data"
    },
    {
     "name": "stdout",
     "output_type": "stream",
     "text": [
      "==================================================\n",
      "count       2001\n",
      "unique         4\n",
      "top       single\n",
      "freq        1867\n",
      "Name: status, dtype: object\n"
     ]
    }
   ],
   "source": [
    "#univariate analysis on 'status'\n",
    "sns.countplot(df['status'])\n",
    "plt.grid()\n",
    "plt.show()\n",
    "\n",
    "print('='*50)\n",
    "print(df['status'].describe())"
   ]
  },
  {
   "cell_type": "markdown",
   "metadata": {},
   "source": [
    "### 2.3 'sex'"
   ]
  },
  {
   "cell_type": "code",
   "execution_count": 10,
   "metadata": {},
   "outputs": [
    {
     "data": {
      "image/png": "[encoded data removed]",
      "text/plain": [
       "<Figure size 432x288 with 1 Axes>"
      ]
     },
     "metadata": {
      "needs_background": "light"
     },
     "output_type": "display_data"
    },
    {
     "name": "stdout",
     "output_type": "stream",
     "text": [
      "==================================================\n",
      "count     2001\n",
      "unique       2\n",
      "top          m\n",
      "freq      1139\n",
      "Name: sex, dtype: object\n"
     ]
    }
   ],
   "source": [
    "#univariate analysis on 'sex'\n",
    "sns.countplot(df['sex'])\n",
    "plt.show()\n",
    "\n",
    "print('='*50)\n",
    "print(df['sex'].describe())"
   ]
  },
  {
   "cell_type": "markdown",
   "metadata": {},
   "source": [
    "### 2.4 'orientation'"
   ]
  },
  {
   "cell_type": "code",
   "execution_count": 11,
   "metadata": {},
   "outputs": [
    {
     "data": {
      "image/png": "[encoded data removed]",
      "text/plain": [
       "<Figure size 432x288 with 1 Axes>"
      ]
     },
     "metadata": {
      "needs_background": "light"
     },
     "output_type": "display_data"
    },
    {
     "name": "stdout",
     "output_type": "stream",
     "text": [
      "==================================================\n",
      "count         2001\n",
      "unique           3\n",
      "top       straight\n",
      "freq          1736\n",
      "Name: orientation, dtype: object\n"
     ]
    }
   ],
   "source": [
    "#univariate analysis on 'orientation'\n",
    "sns.countplot(df['orientation'])\n",
    "plt.show()\n",
    "\n",
    "print('='*50)\n",
    "print(df['orientation'].describe())"
   ]
  },
  {
   "cell_type": "markdown",
   "metadata": {},
   "source": [
    "### 2.5 'drinks'"
   ]
  },
  {
   "cell_type": "code",
   "execution_count": 12,
   "metadata": {},
   "outputs": [
    {
     "data": {
      "image/png": "[encoded data removed]",
      "text/plain": [
       "<Figure size 432x288 with 1 Axes>"
      ]
     },
     "metadata": {
      "needs_background": "light"
     },
     "output_type": "display_data"
    }
   ],
   "source": [
    "#univariate analysis on 'drinks'\n",
    "sns.countplot(df['drinks'])\n",
    "plt.show()\n"
   ]
  },
  {
   "cell_type": "markdown",
   "metadata": {},
   "source": [
    "### 2.6 'drugs'"
   ]
  },
  {
   "cell_type": "code",
   "execution_count": 13,
   "metadata": {},
   "outputs": [
    {
     "data": {
      "image/png": "[encoded data removed]",
      "text/plain": [
       "<Figure size 432x288 with 1 Axes>"
      ]
     },
     "metadata": {
      "needs_background": "light"
     },
     "output_type": "display_data"
    }
   ],
   "source": [
    "#univariate analysis on 'drugs'\n",
    "sns.countplot(df['drugs'])\n",
    "plt.show()"
   ]
  },
  {
   "cell_type": "markdown",
   "metadata": {},
   "source": [
    "### 2.7 'height'"
   ]
  },
  {
   "cell_type": "code",
   "execution_count": 14,
   "metadata": {},
   "outputs": [
    {
     "data": {
      "image/png": "[encoded data removed]",
      "text/plain": [
       "<Figure size 432x288 with 1 Axes>"
      ]
     },
     "metadata": {
      "needs_background": "light"
     },
     "output_type": "display_data"
    },
    {
     "name": "stdout",
     "output_type": "stream",
     "text": [
      "==================================================\n",
      "count    2001.000000\n",
      "mean       68.289855\n",
      "std         3.895246\n",
      "min        55.000000\n",
      "25%        65.000000\n",
      "50%        68.000000\n",
      "75%        71.000000\n",
      "max        83.000000\n",
      "Name: height, dtype: float64\n"
     ]
    }
   ],
   "source": [
    "#univariate analysis on 'height'\n",
    "sns.distplot(df['height'])\n",
    "plt.show()\n",
    "print('='*50)\n",
    "print(df['height'].describe())"
   ]
  },
  {
   "cell_type": "markdown",
   "metadata": {},
   "source": [
    "### 2.8 'smokes'"
   ]
  },
  {
   "cell_type": "code",
   "execution_count": 15,
   "metadata": {},
   "outputs": [
    {
     "data": {
      "image/png": "[encoded data removed]",
      "text/plain": [
       "<Figure size 576x360 with 1 Axes>"
      ]
     },
     "metadata": {
      "needs_background": "light"
     },
     "output_type": "display_data"
    }
   ],
   "source": [
    "#univariate analysis on 'smokes'\n",
    "plt.figure(figsize = (8,5))\n",
    "sns.countplot(df['smokes'])\n",
    "plt.show()"
   ]
  },
  {
   "cell_type": "markdown",
   "metadata": {},
   "source": [
    "### 2.9 'new_languges'"
   ]
  },
  {
   "cell_type": "code",
   "execution_count": 16,
   "metadata": {},
   "outputs": [
    {
     "data": {
      "image/png": "[encoded data removed]",
      "text/plain": [
       "<Figure size 576x360 with 1 Axes>"
      ]
     },
     "metadata": {
      "needs_background": "light"
     },
     "output_type": "display_data"
    }
   ],
   "source": [
    "plt.figure(figsize = (8,5))\n",
    "sns.countplot(df['new_languages'])\n",
    "plt.show()"
   ]
  },
  {
   "cell_type": "markdown",
   "metadata": {},
   "source": [
    "### 2.10 'body_profile'"
   ]
  },
  {
   "cell_type": "code",
   "execution_count": 17,
   "metadata": {},
   "outputs": [
    {
     "data": {
      "image/png": "[encoded data removed]",
      "text/plain": [
       "<Figure size 1080x504 with 1 Axes>"
      ]
     },
     "metadata": {
      "needs_background": "light"
     },
     "output_type": "display_data"
    }
   ],
   "source": [
    "plt.figure(figsize = (15,7))\n",
    "sns.countplot(df['body_profile'])\n",
    "plt.show()"
   ]
  },
  {
   "cell_type": "markdown",
   "metadata": {},
   "source": [
    "### 2.11 'education_level'"
   ]
  },
  {
   "cell_type": "code",
   "execution_count": 18,
   "metadata": {},
   "outputs": [
    {
     "data": {
      "image/png": "[encoded data removed]",
      "text/plain": [
       "<Figure size 432x288 with 1 Axes>"
      ]
     },
     "metadata": {
      "needs_background": "light"
     },
     "output_type": "display_data"
    },
    {
     "name": "stdout",
     "output_type": "stream",
     "text": [
      "==================================================\n",
      "count    2001.000000\n",
      "mean        2.932534\n",
      "std         0.812371\n",
      "min         1.000000\n",
      "25%         2.000000\n",
      "50%         3.000000\n",
      "75%         3.000000\n",
      "max         5.000000\n",
      "Name: education_level, dtype: float64\n"
     ]
    }
   ],
   "source": [
    "sns.boxplot(x = df['education_level'])\n",
    "plt.grid()\n",
    "plt.show()\n",
    "print('='*50)\n",
    "print(df['education_level'].describe())"
   ]
  },
  {
   "cell_type": "markdown",
   "metadata": {},
   "source": [
    "### 2.12 'job'"
   ]
  },
  {
   "cell_type": "code",
   "execution_count": 19,
   "metadata": {},
   "outputs": [
    {
     "data": {
      "image/png": "[encoded data removed]",
      "text/plain": [
       "<Figure size 720x504 with 1 Axes>"
      ]
     },
     "metadata": {
      "needs_background": "light"
     },
     "output_type": "display_data"
    }
   ],
   "source": [
    "plt.figure(figsize = (10,7))\n",
    "df['job'].value_counts().plot(kind = 'bar')\n",
    "plt.show()"
   ]
  },
  {
   "cell_type": "code",
   "execution_count": null,
   "metadata": {},
   "outputs": [],
   "source": []
  },
  {
   "cell_type": "markdown",
   "metadata": {},
   "source": [
    "### 2.13 'bio'"
   ]
  },
  {
   "cell_type": "code",
   "execution_count": 20,
   "metadata": {},
   "outputs": [
    {
     "data": {
      "image/png": "[encoded data removed]",
      "text/plain": [
       "<Figure size 1440x576 with 1 Axes>"
      ]
     },
     "metadata": {
      "needs_background": "light"
     },
     "output_type": "display_data"
    }
   ],
   "source": [
    "word_count = df['bio'].str.split().apply(len).value_counts()\n",
    "word_dict = dict(word_count)\n",
    "word_dict = dict(sorted(word_dict.items(), key=lambda kv: kv[1]))\n",
    "\n",
    "\n",
    "ind = np.arange(len(word_dict))\n",
    "plt.figure(figsize=(20,8))\n",
    "p1 = plt.bar(ind, list(word_dict.values()))\n",
    "\n",
    "plt.ylabel('Number of bios')\n",
    "plt.xlabel('Number of words in each bio')\n",
    "plt.title('Number of words per bio')\n",
    "plt.xticks(ind, list(word_dict.keys()))\n",
    "plt.show()"
   ]
  },
  {
   "cell_type": "code",
   "execution_count": 21,
   "metadata": {},
   "outputs": [
    {
     "data": {
      "image/png": "[encoded data removed]",
      "text/plain": [
       "<Figure size 432x288 with 1 Axes>"
      ]
     },
     "metadata": {
      "needs_background": "light"
     },
     "output_type": "display_data"
    }
   ],
   "source": [
    "sns.distplot(word_count.values)\n",
    "plt.grid()\n",
    "plt.title('Distribution of number of words per bio')\n",
    "plt.xlabel('Number of words in each bio')\n",
    "plt.show()"
   ]
  },
  {
   "cell_type": "markdown",
   "metadata": {},
   "source": [
    "### 2.14 'interests'"
   ]
  },
  {
   "cell_type": "code",
   "execution_count": 22,
   "metadata": {},
   "outputs": [
    {
     "data": {
      "image/png": "[encoded data removed]",
      "text/plain": [
       "<Figure size 1080x504 with 1 Axes>"
      ]
     },
     "metadata": {
      "needs_background": "light"
     },
     "output_type": "display_data"
    }
   ],
   "source": [
    "plt.figure(figsize = (15,7))\n",
    "sns.countplot(df['interests'])\n",
    "plt.xticks(rotation = 90)\n",
    "plt.show()"
   ]
  },
  {
   "cell_type": "markdown",
   "metadata": {},
   "source": [
    "### 2.15 'location_preference'"
   ]
  },
  {
   "cell_type": "code",
   "execution_count": 23,
   "metadata": {},
   "outputs": [
    {
     "data": {
      "image/png": "[encoded data removed]",
      "text/plain": [
       "<Figure size 504x360 with 1 Axes>"
      ]
     },
     "metadata": {
      "needs_background": "light"
     },
     "output_type": "display_data"
    }
   ],
   "source": [
    "plt.figure(figsize = (7,5))\n",
    "sns.countplot(df['location_preference'])\n",
    "plt.show()"
   ]
  },
  {
   "cell_type": "markdown",
   "metadata": {},
   "source": [
    "# 3. Data preprocessing\n",
    "## 3.1 Preprocessing Categorical features "
   ]
  },
  {
   "cell_type": "markdown",
   "metadata": {},
   "source": [
    "### 3.1.1 'job'"
   ]
  },
  {
   "cell_type": "code",
   "execution_count": 24,
   "metadata": {},
   "outputs": [
    {
     "data": {
      "text/plain": [
       "other                           286\n",
       "student                         226\n",
       "artistic_musical_writer         176\n",
       "science_tech_engineering        163\n",
       "medicine_health                 158\n",
       "computer_hardware_software      156\n",
       "sales_marketing_bizdev          156\n",
       "education_academia              131\n",
       "executive_management             93\n",
       "banking_financial_realestate     79\n",
       "entertainment_media              78\n",
       "law_legalservices                54\n",
       "construction_craftsmanship       52\n",
       "hospitality_travel               46\n",
       "clerical_administrative          34\n",
       "political_government             33\n",
       "transportation                   22\n",
       "retired                          18\n",
       "rathernotsay                     17\n",
       "unemployed                       16\n",
       "military                          7\n",
       "Name: job, dtype: int64"
      ]
     },
     "execution_count": 24,
     "metadata": {},
     "output_type": "execute_result"
    }
   ],
   "source": [
    "#removing the '/' and whitespaces\n",
    "df['job'] = df['job'].str.replace('/','_')\n",
    "df['job'] = df['job'].str.replace(' ','')\n",
    "df['job'].value_counts()"
   ]
  },
  {
   "cell_type": "markdown",
   "metadata": {},
   "source": [
    "### 3.1.2 'location'"
   ]
  },
  {
   "cell_type": "code",
   "execution_count": 25,
   "metadata": {},
   "outputs": [
    {
     "data": {
      "text/plain": [
       "0             oakland, california\n",
       "1       pleasant hill, california\n",
       "2             oakland, california\n",
       "3           daly city, california\n",
       "4             oakland, california\n",
       "                  ...            \n",
       "1996          oakland, california\n",
       "1997    san francisco, california\n",
       "1998    pleasant hill, california\n",
       "1999    san francisco, california\n",
       "2000          oakland, california\n",
       "Name: location, Length: 2001, dtype: object"
      ]
     },
     "execution_count": 25,
     "metadata": {},
     "output_type": "execute_result"
    }
   ],
   "source": [
    "df['location']"
   ]
  },
  {
   "cell_type": "code",
   "execution_count": 26,
   "metadata": {},
   "outputs": [
    {
     "data": {
      "text/plain": [
       "san francisco  california       911\n",
       "oakland  california             250\n",
       "berkeley  california            146\n",
       "san mateo  california            56\n",
       "palo alto  california            45\n",
       "                               ... \n",
       "stockton  california              1\n",
       "foster city  california           1\n",
       "moss beach  california            1\n",
       "hacienda heights  california      1\n",
       "petaluma  california              1\n",
       "Name: location, Length: 70, dtype: int64"
      ]
     },
     "execution_count": 26,
     "metadata": {},
     "output_type": "execute_result"
    }
   ],
   "source": [
    "#removing ',' and whitespaces\n",
    "df['location'] = df['location'].str.replace(',', ' ')\n",
    "df['location'].value_counts()"
   ]
  },
  {
   "cell_type": "markdown",
   "metadata": {},
   "source": [
    "### 3.1.3 'pets'"
   ]
  },
  {
   "cell_type": "code",
   "execution_count": 27,
   "metadata": {},
   "outputs": [
    {
     "data": {
      "text/plain": [
       "likes_dogs_and_likes_cats          743\n",
       "likes_dogs                         303\n",
       "likes_dogs_and_has_cats            229\n",
       "has_dogs                           184\n",
       "has_dogs_and_likes_cats            148\n",
       "likes_dogs_and_dislikes_cats       121\n",
       "has_dogs_and_has_cats               87\n",
       "has_cats                            63\n",
       "likes_cats                          59\n",
       "has_dogs_and_dislikes_cats          24\n",
       "dislikes_dogs_and_dislikes_cats     17\n",
       "dislikes_dogs_and_likes_cats         9\n",
       "dislikes_cats                        5\n",
       "dislikes_dogs                        5\n",
       "dislikes_dogs_and_has_cats           4\n",
       "Name: pets, dtype: int64"
      ]
     },
     "execution_count": 27,
     "metadata": {},
     "output_type": "execute_result"
    }
   ],
   "source": [
    "#removing whitespaces\n",
    "df['pets'] = df['pets'].str.replace(' ', '_')\n",
    "df['pets'].value_counts()"
   ]
  },
  {
   "cell_type": "markdown",
   "metadata": {},
   "source": [
    "### 3.1.4 'language'"
   ]
  },
  {
   "cell_type": "code",
   "execution_count": 28,
   "metadata": {},
   "outputs": [],
   "source": [
    "#language = list(train_df['language'].values)\n",
    "def lang(language):\n",
    "    lang_list = []\n",
    "    for i in language:\n",
    "        temp = \"\"\n",
    "        for j in i.split(','): \n",
    "            j = j.replace(' ','')\n",
    "            temp += j.strip() + \" \" \n",
    "            temp = temp.replace('(','_')\n",
    "            temp = temp.replace(')','_')\n",
    "        lang_list.append(temp.strip())\n",
    "    return lang_list"
   ]
  },
  {
   "cell_type": "code",
   "execution_count": 29,
   "metadata": {},
   "outputs": [
    {
     "data": {
      "text/html": [
       "<div>\n",
       "<style scoped>\n",
       "    .dataframe tbody tr th:only-of-type {\n",
       "        vertical-align: middle;\n",
       "    }\n",
       "\n",
       "    .dataframe tbody tr th {\n",
       "        vertical-align: top;\n",
       "    }\n",
       "\n",
       "    .dataframe thead th {\n",
       "        text-align: right;\n",
       "    }\n",
       "</style>\n",
       "<table border=\"1\" class=\"dataframe\">\n",
       "  <thead>\n",
       "    <tr style=\"text-align: right;\">\n",
       "      <th></th>\n",
       "      <th>user_id</th>\n",
       "      <th>username</th>\n",
       "      <th>age</th>\n",
       "      <th>status</th>\n",
       "      <th>sex</th>\n",
       "      <th>orientation</th>\n",
       "      <th>drinks</th>\n",
       "      <th>drugs</th>\n",
       "      <th>height</th>\n",
       "      <th>job</th>\n",
       "      <th>...</th>\n",
       "      <th>smokes</th>\n",
       "      <th>new_languages</th>\n",
       "      <th>body_profile</th>\n",
       "      <th>education_level</th>\n",
       "      <th>dropped_out</th>\n",
       "      <th>bio</th>\n",
       "      <th>interests</th>\n",
       "      <th>other_interests</th>\n",
       "      <th>location_preference</th>\n",
       "      <th>cleaned_language</th>\n",
       "    </tr>\n",
       "  </thead>\n",
       "  <tbody>\n",
       "    <tr>\n",
       "      <td>0</td>\n",
       "      <td>fffe3100</td>\n",
       "      <td>Edith Lopez</td>\n",
       "      <td>27</td>\n",
       "      <td>single</td>\n",
       "      <td>f</td>\n",
       "      <td>gay</td>\n",
       "      <td>socially</td>\n",
       "      <td>never</td>\n",
       "      <td>66.0</td>\n",
       "      <td>medicine_health</td>\n",
       "      <td>...</td>\n",
       "      <td>no</td>\n",
       "      <td>interested</td>\n",
       "      <td>athletic</td>\n",
       "      <td>4.0</td>\n",
       "      <td>no</td>\n",
       "      <td>bottom line i love life! i work hard and i lov...</td>\n",
       "      <td>sports</td>\n",
       "      <td>instruments</td>\n",
       "      <td>same state</td>\n",
       "      <td>english_fluently_ spanish_poorly_ signlanguage...</td>\n",
       "    </tr>\n",
       "    <tr>\n",
       "      <td>1</td>\n",
       "      <td>fffe3200</td>\n",
       "      <td>Travis Young</td>\n",
       "      <td>26</td>\n",
       "      <td>single</td>\n",
       "      <td>m</td>\n",
       "      <td>gay</td>\n",
       "      <td>socially</td>\n",
       "      <td>never</td>\n",
       "      <td>68.0</td>\n",
       "      <td>other</td>\n",
       "      <td>...</td>\n",
       "      <td>no</td>\n",
       "      <td>interested</td>\n",
       "      <td>fit</td>\n",
       "      <td>3.0</td>\n",
       "      <td>no</td>\n",
       "      <td>i'm a straightforward, genuine, fun loving (i'...</td>\n",
       "      <td>painting</td>\n",
       "      <td>instruments</td>\n",
       "      <td>anywhere</td>\n",
       "      <td>english_fluently_ tagalog_okay_ french_poorly_</td>\n",
       "    </tr>\n",
       "  </tbody>\n",
       "</table>\n",
       "<p>2 rows × 22 columns</p>\n",
       "</div>"
      ],
      "text/plain": [
       "    user_id      username  age  status sex orientation    drinks  drugs  \\\n",
       "0  fffe3100   Edith Lopez   27  single   f         gay  socially  never   \n",
       "1  fffe3200  Travis Young   26  single   m         gay  socially  never   \n",
       "\n",
       "   height              job  ... smokes new_languages body_profile  \\\n",
       "0    66.0  medicine_health  ...     no    interested     athletic   \n",
       "1    68.0            other  ...     no    interested          fit   \n",
       "\n",
       "  education_level dropped_out  \\\n",
       "0             4.0          no   \n",
       "1             3.0          no   \n",
       "\n",
       "                                                 bio interests  \\\n",
       "0  bottom line i love life! i work hard and i lov...    sports   \n",
       "1  i'm a straightforward, genuine, fun loving (i'...  painting   \n",
       "\n",
       "  other_interests location_preference  \\\n",
       "0     instruments          same state   \n",
       "1     instruments            anywhere   \n",
       "\n",
       "                                    cleaned_language  \n",
       "0  english_fluently_ spanish_poorly_ signlanguage...  \n",
       "1     english_fluently_ tagalog_okay_ french_poorly_  \n",
       "\n",
       "[2 rows x 22 columns]"
      ]
     },
     "execution_count": 29,
     "metadata": {},
     "output_type": "execute_result"
    }
   ],
   "source": [
    "df['cleaned_language'] = lang(list(df['language'].values))\n",
    "df.drop(['language'], axis=1, inplace=True)\n",
    "df.head(2)"
   ]
  },
  {
   "cell_type": "markdown",
   "metadata": {},
   "source": [
    "### 3.1.5 'new_languages'"
   ]
  },
  {
   "cell_type": "code",
   "execution_count": 30,
   "metadata": {},
   "outputs": [
    {
     "data": {
      "text/plain": [
       "not_interested         1050\n",
       "interested              633\n",
       "somewhat_interested     318\n",
       "Name: new_languages, dtype: int64"
      ]
     },
     "execution_count": 30,
     "metadata": {},
     "output_type": "execute_result"
    }
   ],
   "source": [
    "df['new_languages'] = df['new_languages'].str.replace(' ', '_')\n",
    "df['new_languages'].value_counts()"
   ]
  },
  {
   "cell_type": "markdown",
   "metadata": {},
   "source": [
    "### 3.1.6 'body_profile'"
   ]
  },
  {
   "cell_type": "code",
   "execution_count": 31,
   "metadata": {},
   "outputs": [
    {
     "data": {
      "text/plain": [
       "average           557\n",
       "fit               433\n",
       "athletic          385\n",
       "curvy             179\n",
       "thin              161\n",
       "a_little_extra    110\n",
       "skinny             65\n",
       "full_figured       43\n",
       "overweight         25\n",
       "used_up            20\n",
       "jacked             13\n",
       "rather_not_say     10\n",
       "Name: body_profile, dtype: int64"
      ]
     },
     "execution_count": 31,
     "metadata": {},
     "output_type": "execute_result"
    }
   ],
   "source": [
    "df['body_profile'] = df['body_profile'].str.replace(' ', '_')\n",
    "df['body_profile'].value_counts()"
   ]
  },
  {
   "cell_type": "markdown",
   "metadata": {},
   "source": [
    "### 3.1.7 'bio'"
   ]
  },
  {
   "cell_type": "code",
   "execution_count": 32,
   "metadata": {},
   "outputs": [
    {
     "data": {
      "text/plain": [
       "0       bottom line i love life! i work hard and i lov...\n",
       "1       i'm a straightforward, genuine, fun loving (i'...\n",
       "2       mmmmm yummy tacosss. yoga is where it's at. i ...\n",
       "3       i'm a stealth geek. that special mix of techni...\n",
       "4       with the whisper of the wind i was weaved into...\n",
       "                              ...                        \n",
       "1996    i grew up playing instruments and singing and ...\n",
       "1997    im a 23 yr old female born and raised in color...\n",
       "1998    i've spent the last 10 years working in the ou...\n",
       "1999    i am that i am.  more and more, my spiritual l...\n",
       "2000    love travel, love food, love wine and love sat...\n",
       "Name: bio, Length: 2001, dtype: object"
      ]
     },
     "execution_count": 32,
     "metadata": {},
     "output_type": "execute_result"
    }
   ],
   "source": [
    "df['bio']"
   ]
  },
  {
   "cell_type": "code",
   "execution_count": 33,
   "metadata": {},
   "outputs": [],
   "source": [
    "# https://stackoverflow.com/a/47091490/4084039\n",
    "\n",
    "def decontracted(phrase):\n",
    "    # specific\n",
    "    phrase = re.sub(r\"won't\", \"will not\", phrase)\n",
    "    phrase = re.sub(r\"can\\'t\", \"can not\", phrase)\n",
    "    phrase = re.sub(r\"fyi\", \"for your information\", phrase)\n",
    "    phrase = re.sub(r\"idk\", \"i do not know\", phrase)\n",
    "    phrase = re.sub(r\"cya\", \"see you\", phrase)\n",
    "    phrase = re.sub(r\"f9\", \"fine\", phrase)\n",
    "    phrase = re.sub(r\"lol\", \"laugh out loud\", phrase)\n",
    "    phrase = re.sub(r\"lmao\", \"laughing my ass off\", phrase)\n",
    "    phrase = re.sub(r\"dawg\", \"dog\", phrase)\n",
    "    phrase = re.sub(r\"u.s\", \"united states\", phrase)\n",
    "    phrase = re.sub(r\"smh\", \"shakes my head\", phrase)\n",
    "    phrase = re.sub(r\"rofl\", \"rolling on the floor laughing\", phrase)\n",
    "    phrase = re.sub(r\"nigga\", \"nigger\", phrase)\n",
    "    phrase = re.sub(r\"fyi\", \"for your information\", phrase)\n",
    "    phrase = re.sub(r\"4ever\", \"forever\", phrase)\n",
    "    phrase = re.sub(r\"colour\", \"color\", phrase)\n",
    "    phrase = re.sub(r\"humour\", \"humor\", phrase)\n",
    "    phrase = re.sub(r\"laffs\", \"laughs\", phrase)\n",
    "    phrase = re.sub(r\"yr\", \"year\", phrase)\n",
    "    phrase = re.sub(r\"dm\", \"direct message\", phrase)\n",
    "    phrase = re.sub(r\"fml\", \"fuck my life\", phrase)\n",
    "    phrase = re.sub(r\"ftw\", \"for the win\", phrase)\n",
    "    phrase = re.sub(r\"imo\", \"in my opinion\", phrase)\n",
    "    phrase = re.sub(r\"irl\", \"in real life\", phrase)\n",
    "    phrase = re.sub(r\"nsfw\", \"not safe for work\", phrase)\n",
    "    phrase = re.sub(r\"tbh\", \"to be honest\", phrase)\n",
    "    phrase = re.sub(r\"afaik\", \"as far as i know\", phrase)\n",
    "    phrase = re.sub(r\"ik\", \"i know\", phrase)\n",
    "    phrase = re.sub(r\"ldr\", \"long distance relationship\", phrase)\n",
    "    phrase = re.sub(r\"asap\", \"as soon as possible\", phrase)\n",
    "\n",
    "    # general\n",
    "    phrase = re.sub(r\"n\\'t\", \" not\", phrase)\n",
    "    phrase = re.sub(r\"\\'re\", \" are\", phrase)\n",
    "    phrase = re.sub(r\"\\'s\", \" is\", phrase)\n",
    "    phrase = re.sub(r\"\\'d\", \" would\", phrase)\n",
    "    phrase = re.sub(r\"\\'ll\", \" will\", phrase)\n",
    "    phrase = re.sub(r\"\\'t\", \" not\", phrase)\n",
    "    phrase = re.sub(r\"\\'ve\", \" have\", phrase)\n",
    "    phrase = re.sub(r\"\\'m\", \" am\", phrase)\n",
    "    return phrase"
   ]
  },
  {
   "cell_type": "code",
   "execution_count": 34,
   "metadata": {},
   "outputs": [],
   "source": [
    "# https://gist.github.com/sebleier/554280\n",
    "# we are removing the words from the stop words list: 'no', 'nor', 'not'\n",
    "stopwords= ['i', 'me', 'my', 'myself', 'we', 'our', 'ours', 'ourselves', 'you', \"you're\", \"you've\",\\\n",
    "            \"you'll\", \"you'd\", 'your', 'yours', 'yourself', 'yourselves', 'he', 'him', 'his', 'himself', \\\n",
    "            'she', \"she's\", 'her', 'hers', 'herself', 'it', \"it's\", 'its', 'itself', 'they', 'them', 'their',\\\n",
    "            'theirs', 'themselves', 'what', 'which', 'who', 'whom', 'this', 'that', \"that'll\", 'these', 'those', \\\n",
    "            'am', 'is', 'are', 'was', 'were', 'be', 'been', 'being', 'have', 'has', 'had', 'having', 'do', 'does', \\\n",
    "            'did', 'doing', 'a', 'an', 'the', 'and', 'but', 'if', 'or', 'because', 'as', 'until', 'while', 'of', \\\n",
    "            'at', 'by', 'for', 'with', 'about', 'against', 'between', 'into', 'through', 'during', 'before', 'after',\\\n",
    "            'above', 'below', 'to', 'from', 'up', 'down', 'in', 'out', 'on', 'off', 'over', 'under', 'again', 'further',\\\n",
    "            'then', 'once', 'here', 'there', 'when', 'where', 'why', 'how', 'all', 'any', 'both', 'each', 'few', 'more',\\\n",
    "            'most', 'other', 'some', 'such', 'only', 'own', 'same', 'so', 'than', 'too', 'very', \\\n",
    "            's', 't', 'can', 'will', 'just', 'don', \"don't\", 'should', \"should've\", 'now', 'd', 'll', 'm', 'o', 're', \\\n",
    "            've', 'y', 'ain', 'aren', \"aren't\", 'couldn', \"couldn't\", 'didn', \"didn't\", 'doesn', \"doesn't\", 'hadn',\\\n",
    "            \"hadn't\", 'hasn', \"hasn't\", 'haven', \"haven't\", 'isn', \"isn't\", 'ma', 'mightn', \"mightn't\", 'mustn',\\\n",
    "            \"mustn't\", 'needn', \"needn't\", 'shan', \"shan't\", 'shouldn', \"shouldn't\", 'wasn', \"wasn't\", 'weren', \"weren't\", \\\n",
    "            'won', \"won't\", 'wouldn', \"wouldn't\", 'im', 'mmmmm']"
   ]
  },
  {
   "cell_type": "code",
   "execution_count": 35,
   "metadata": {},
   "outputs": [
    {
     "name": "stdout",
     "output_type": "stream",
     "text": [
      "10 i am a easy-going fun loving, compassionate person. my interests include reading, movies, live music and game night parties and potlucks. i hope to travel to europe and explore this wonderful world\n",
      "----------------------------------------------------------------------------------------------------\n",
      "1033 in moscow, i had my red october, now it's on to my summer of love! (major points if you know what that is.) just arrived in oakland (june 1), had to escape phoenix. it was already dante's inferno (108f!) and i'm allergic to melting flesh. so i headed for the beautiful bay area to see what journey was singing about. fun & feisty globetrotting girl lived in italy/europe 6 years professional dance and acting background i was in a country music video 4ever ago and recently found it online. i also still get facebook notices from people saying they saw me in \"waiting to exhale\". good4laffs!  former royal nanny (really)  int'l english teacher  worked in siberia (not in the gulag!) and moscow. russian philharmonic dance company guest teacher  taught university students in south korea (yes, they really do eat dawg! makes the fried silkworms seem blase'.)  ground zero volunteer/fdny supporter  hiked through the rainforest to a waterfall with a jungle boy guide (goofy as disneyland & full of useful info when not high on crack)  stayed in a convent with the sisters of mother teresa (weird story, so weird)  stalked by elvis in cyprus/ run-in with dirty police & my mobster employer/rescued by u.s embassy. i was playing tina turner. sigh. fyi: almost as many elvises as in vegas.  i have a \"cougar\" tattoo on my forehead which is only visible to men under 30. at least, i figure that must be it. (not that i'm complaining. you young guys are adorable! equal opportunity romance, here ;-) i hula-hoop by moonlight with palm trees towering over me.\n",
      "----------------------------------------------------------------------------------------------------\n",
      "44 smart sensual sensitive soul, a patron of the arts and an artist, world traveler, financial analyst and a lover of music and dance\n",
      "----------------------------------------------------------------------------------------------------\n",
      "777 i'm a friendly introvert who enjoys people, and i'm a homebody who loves a good adventure. i'm a tempered optimist, consider myself very fortunate, and i've made it through some pretty tough times in life with my sense of humor intact.\n"
     ]
    }
   ],
   "source": [
    "#printing a few random bios\n",
    "print(10, df['bio'].values[10])\n",
    "print('-'*100)\n",
    "print(1033, df['bio'].values[1033])\n",
    "print('-'*100)\n",
    "print(44, df['bio'].values[44])\n",
    "print('-'*100)\n",
    "print(777, df['bio'].values[777])"
   ]
  },
  {
   "cell_type": "code",
   "execution_count": 36,
   "metadata": {},
   "outputs": [],
   "source": [
    "def preprocess_text(text_data):\n",
    "    preprocessed_text = []\n",
    "    for sentence in tqdm(text_data):\n",
    "        sent = decontracted(sentence)\n",
    "        sent = sent.replace('\\\\r', ' ')\n",
    "        sent = sent.replace('\\\\n', ' ')\n",
    "        sent = sent.replace('\\\\\"', ' ')\n",
    "        sent = re.sub('[^A-Za-z0-9]+', ' ', sent)\n",
    "        # https://gist.github.com/sebleier/554280\n",
    "        sent = ' '.join(e for e in nltk.word_tokenize(sent) if e.lower() not in stopwords)\n",
    "        preprocessed_text.append(sent.lower().strip())\n",
    "    return preprocessed_text"
   ]
  },
  {
   "cell_type": "code",
   "execution_count": 37,
   "metadata": {},
   "outputs": [
    {
     "name": "stderr",
     "output_type": "stream",
     "text": [
      "100%|████████████████████████████████████████████████████████████████████████████| 2001/2001 [00:01<00:00, 1467.67it/s]\n"
     ]
    }
   ],
   "source": [
    "preprocessed_bio = preprocess_text(df['bio'].values)"
   ]
  },
  {
   "cell_type": "code",
   "execution_count": 38,
   "metadata": {},
   "outputs": [
    {
     "name": "stdout",
     "output_type": "stream",
     "text": [
      "10 easy going fun loving compassionate person interests include reading movies live music game night parties potlucks hope travel europe explore wonderful world\n",
      "----------------------------------------------------------------------------------------------------\n",
      "1033 moscow red october summer love major points know arrived oakland june 1 escape phoenix already dante inferno 108f allergic melting flesh headed beautiful bay area see journey singing fun feisty globetrotting gin real life lived italy europe 6 years professional dance acting background country music video forever ago recently found online also still get facebook notices people saying saw waiting exhale good4laughs former royal nanny really int l english teacher worked siberia not gulag moscow runited statesian philharmonic dance company gunited statest teacher taught university students south korea yes really eat dog makes fried silkworms seem blase ground zero volunteer fdny supporter hi knowed rainforest waterfall jungle boy guide goofy disneyland full useful info not high crack stayed convent sisters mother teresa weird story weird stalked elvis cyprus run dirty police mobster employer rescued united states embassy playing tina turner sigh information almost many elvises vegas cougar tattoo forehead visible men 30 least figure must not complaining young gunited states adorable equal opportunity romance hula hoop moonlight palm trees towering\n",
      "----------------------------------------------------------------------------------------------------\n",
      "44 smart sensual sensitive soul patron arts artist world traveler financial analyst lover music dance\n",
      "----------------------------------------------------------------------------------------------------\n",
      "777 friendly introvert enjoys people homebody loves good adventure tempered optimist consider fortunate made pretty tough times life sense humor intact\n"
     ]
    }
   ],
   "source": [
    "#printing a few random bios\n",
    "print(10, preprocessed_bio[10])\n",
    "print('-'*100)\n",
    "print(1033, preprocessed_bio[1033])\n",
    "print('-'*100)\n",
    "print(44, preprocessed_bio[44])\n",
    "print('-'*100)\n",
    "print(777, preprocessed_bio[777])"
   ]
  },
  {
   "cell_type": "code",
   "execution_count": 39,
   "metadata": {},
   "outputs": [],
   "source": [
    "df['bio'] = preprocessed_bio"
   ]
  },
  {
   "cell_type": "markdown",
   "metadata": {},
   "source": [
    "### 3.1.8 'interests'"
   ]
  },
  {
   "cell_type": "code",
   "execution_count": 40,
   "metadata": {},
   "outputs": [
    {
     "data": {
      "text/plain": [
       "music                155\n",
       "reading              105\n",
       "politics             105\n",
       "singing              101\n",
       "photography           92\n",
       "instruments           88\n",
       "video_games           87\n",
       "sports                83\n",
       "painting              83\n",
       "movies                79\n",
       "dancing               75\n",
       "travelling            74\n",
       "cooking               67\n",
       "sketching             64\n",
       "craft                 64\n",
       "designing             64\n",
       "food                  60\n",
       "diy                   49\n",
       "gardening             48\n",
       "writting              47\n",
       "studying              47\n",
       "yoga                  46\n",
       "social_networking     46\n",
       "organising_events     43\n",
       "makeup                42\n",
       "acting                41\n",
       "astronomy             37\n",
       "calligraphy           33\n",
       "fishing               33\n",
       "collectibles          27\n",
       "camping               16\n",
       "Name: interests, dtype: int64"
      ]
     },
     "execution_count": 40,
     "metadata": {},
     "output_type": "execute_result"
    }
   ],
   "source": [
    "df['interests'] = df['interests'].str.replace(' ', '_')\n",
    "df['interests'].value_counts()"
   ]
  },
  {
   "cell_type": "markdown",
   "metadata": {},
   "source": [
    "### 3.1.9 'other_interests'"
   ]
  },
  {
   "cell_type": "code",
   "execution_count": 41,
   "metadata": {},
   "outputs": [
    {
     "data": {
      "text/plain": [
       "music                158\n",
       "sports               102\n",
       "reading              100\n",
       "photography          100\n",
       "singing               98\n",
       "politics              94\n",
       "video_games           90\n",
       "dancing               88\n",
       "painting              85\n",
       "movies                81\n",
       "craft                 78\n",
       "instruments           72\n",
       "sketching             67\n",
       "travelling            62\n",
       "designing             61\n",
       "makeup                57\n",
       "social_networking     57\n",
       "food                  54\n",
       "diy                   53\n",
       "writting              50\n",
       "cooking               49\n",
       "gardening             49\n",
       "acting                45\n",
       "fishing               38\n",
       "studying              36\n",
       "astronomy             35\n",
       "yoga                  35\n",
       "organising_events     34\n",
       "calligraphy           33\n",
       "collectibles          21\n",
       "camping               19\n",
       "Name: other_interests, dtype: int64"
      ]
     },
     "execution_count": 41,
     "metadata": {},
     "output_type": "execute_result"
    }
   ],
   "source": [
    "df['other_interests']=df['other_interests'].str.replace(' ','_')\n",
    "df['other_interests'].value_counts()"
   ]
  },
  {
   "cell_type": "markdown",
   "metadata": {},
   "source": [
    "### 3.1.10 'location_preference'"
   ]
  },
  {
   "cell_type": "code",
   "execution_count": 42,
   "metadata": {},
   "outputs": [
    {
     "data": {
      "text/plain": [
       "same_city     1169\n",
       "same_state     495\n",
       "anywhere       337\n",
       "Name: location_preference, dtype: int64"
      ]
     },
     "execution_count": 42,
     "metadata": {},
     "output_type": "execute_result"
    }
   ],
   "source": [
    "df['location_preference'] = df['location_preference'].str.replace(' ', '_')\n",
    "df['location_preference'].value_counts()"
   ]
  },
  {
   "cell_type": "markdown",
   "metadata": {},
   "source": [
    "### 3.1.11 'status'"
   ]
  },
  {
   "cell_type": "code",
   "execution_count": 43,
   "metadata": {},
   "outputs": [
    {
     "data": {
      "text/plain": [
       "single            1867\n",
       "available           66\n",
       "seeing_someone      54\n",
       "married             14\n",
       "Name: status, dtype: int64"
      ]
     },
     "execution_count": 43,
     "metadata": {},
     "output_type": "execute_result"
    }
   ],
   "source": [
    "df['status'] = df['status'].str.replace(' ', '_')\n",
    "df['status'].value_counts()"
   ]
  },
  {
   "cell_type": "markdown",
   "metadata": {},
   "source": [
    "## 3.2 Preprocessing Numerical Data"
   ]
  },
  {
   "cell_type": "markdown",
   "metadata": {},
   "source": [
    "### 3.2.1 'age'"
   ]
  },
  {
   "cell_type": "code",
   "execution_count": 44,
   "metadata": {},
   "outputs": [],
   "source": [
    "scaler = StandardScaler()\n",
    "df['age1'] = scaler.fit_transform(df['age'].values.reshape(-1, 1))"
   ]
  },
  {
   "cell_type": "code",
   "execution_count": 45,
   "metadata": {},
   "outputs": [
    {
     "data": {
      "text/plain": [
       "array([[-0.57940211],\n",
       "       [-0.67481678],\n",
       "       [-1.24730478],\n",
       "       ...,\n",
       "       [-0.48398744],\n",
       "       [-0.10232877],\n",
       "       [ 0.75640323]])"
      ]
     },
     "execution_count": 45,
     "metadata": {},
     "output_type": "execute_result"
    }
   ],
   "source": [
    "(df['age1'].values).reshape(-1,1)"
   ]
  },
  {
   "cell_type": "markdown",
   "metadata": {},
   "source": [
    "### 3.2.2 'height'"
   ]
  },
  {
   "cell_type": "code",
   "execution_count": 46,
   "metadata": {},
   "outputs": [],
   "source": [
    "scaler = StandardScaler()\n",
    "df['height1']=scaler.fit_transform(df['height'].values.reshape(-1, 1))"
   ]
  },
  {
   "cell_type": "code",
   "execution_count": 47,
   "metadata": {},
   "outputs": [
    {
     "data": {
      "text/plain": [
       "array([[-0.58800585],\n",
       "       [-0.07443112],\n",
       "       [ 0.18235624],\n",
       "       ...,\n",
       "       [ 0.69593097],\n",
       "       [-0.07443112],\n",
       "       [-0.33121848]])"
      ]
     },
     "execution_count": 47,
     "metadata": {},
     "output_type": "execute_result"
    }
   ],
   "source": [
    "(df['height1'].values).reshape(-1,1)"
   ]
  },
  {
   "cell_type": "markdown",
   "metadata": {},
   "source": [
    "### 3.2.3 'education_level'"
   ]
  },
  {
   "cell_type": "code",
   "execution_count": 48,
   "metadata": {},
   "outputs": [],
   "source": [
    "scaler = StandardScaler()\n",
    "df['education_level1'] = scaler.fit_transform(df['education_level'].values.reshape(-1, 1))"
   ]
  },
  {
   "cell_type": "code",
   "execution_count": 49,
   "metadata": {},
   "outputs": [
    {
     "data": {
      "text/plain": [
       "array([[ 1.31434234],\n",
       "       [ 0.08306939],\n",
       "       [-1.14820356],\n",
       "       ...,\n",
       "       [ 0.08306939],\n",
       "       [ 0.08306939],\n",
       "       [-1.14820356]])"
      ]
     },
     "execution_count": 49,
     "metadata": {},
     "output_type": "execute_result"
    }
   ],
   "source": [
    "(df['education_level1'].values).reshape(-1,1)"
   ]
  },
  {
   "cell_type": "code",
   "execution_count": 50,
   "metadata": {},
   "outputs": [
    {
     "data": {
      "text/html": [
       "<div>\n",
       "<style scoped>\n",
       "    .dataframe tbody tr th:only-of-type {\n",
       "        vertical-align: middle;\n",
       "    }\n",
       "\n",
       "    .dataframe tbody tr th {\n",
       "        vertical-align: top;\n",
       "    }\n",
       "\n",
       "    .dataframe thead th {\n",
       "        text-align: right;\n",
       "    }\n",
       "</style>\n",
       "<table border=\"1\" class=\"dataframe\">\n",
       "  <thead>\n",
       "    <tr style=\"text-align: right;\">\n",
       "      <th></th>\n",
       "      <th>user_id</th>\n",
       "      <th>username</th>\n",
       "      <th>age</th>\n",
       "      <th>status</th>\n",
       "      <th>sex</th>\n",
       "      <th>orientation</th>\n",
       "      <th>drinks</th>\n",
       "      <th>drugs</th>\n",
       "      <th>height</th>\n",
       "      <th>job</th>\n",
       "      <th>...</th>\n",
       "      <th>education_level</th>\n",
       "      <th>dropped_out</th>\n",
       "      <th>bio</th>\n",
       "      <th>interests</th>\n",
       "      <th>other_interests</th>\n",
       "      <th>location_preference</th>\n",
       "      <th>cleaned_language</th>\n",
       "      <th>age1</th>\n",
       "      <th>height1</th>\n",
       "      <th>education_level1</th>\n",
       "    </tr>\n",
       "  </thead>\n",
       "  <tbody>\n",
       "    <tr>\n",
       "      <td>0</td>\n",
       "      <td>fffe3100</td>\n",
       "      <td>Edith Lopez</td>\n",
       "      <td>27</td>\n",
       "      <td>single</td>\n",
       "      <td>f</td>\n",
       "      <td>gay</td>\n",
       "      <td>socially</td>\n",
       "      <td>never</td>\n",
       "      <td>66.0</td>\n",
       "      <td>medicine_health</td>\n",
       "      <td>...</td>\n",
       "      <td>4.0</td>\n",
       "      <td>no</td>\n",
       "      <td>bottom line love life work hard love hard eart...</td>\n",
       "      <td>sports</td>\n",
       "      <td>instruments</td>\n",
       "      <td>same_state</td>\n",
       "      <td>english_fluently_ spanish_poorly_ signlanguage...</td>\n",
       "      <td>-0.579402</td>\n",
       "      <td>-0.588006</td>\n",
       "      <td>1.314342</td>\n",
       "    </tr>\n",
       "  </tbody>\n",
       "</table>\n",
       "<p>1 rows × 25 columns</p>\n",
       "</div>"
      ],
      "text/plain": [
       "    user_id     username  age  status sex orientation    drinks  drugs  \\\n",
       "0  fffe3100  Edith Lopez   27  single   f         gay  socially  never   \n",
       "\n",
       "   height              job  ... education_level dropped_out  \\\n",
       "0    66.0  medicine_health  ...             4.0          no   \n",
       "\n",
       "                                                 bio interests  \\\n",
       "0  bottom line love life work hard love hard eart...    sports   \n",
       "\n",
       "  other_interests  location_preference  \\\n",
       "0     instruments           same_state   \n",
       "\n",
       "                                    cleaned_language      age1   height1  \\\n",
       "0  english_fluently_ spanish_poorly_ signlanguage... -0.579402 -0.588006   \n",
       "\n",
       "  education_level1  \n",
       "0         1.314342  \n",
       "\n",
       "[1 rows x 25 columns]"
      ]
     },
     "execution_count": 50,
     "metadata": {},
     "output_type": "execute_result"
    }
   ],
   "source": [
    "df.head(1)"
   ]
  },
  {
   "cell_type": "markdown",
   "metadata": {},
   "source": [
    "# 4. Vectorizing Categorial features"
   ]
  },
  {
   "cell_type": "markdown",
   "metadata": {},
   "source": [
    "### 4.1 tfidf vectorized 'bio'"
   ]
  },
  {
   "cell_type": "code",
   "execution_count": 51,
   "metadata": {},
   "outputs": [],
   "source": [
    "stemmer = SnowballStemmer(language = 'english')\n",
    "df['bio'] = df['bio'].apply(str)"
   ]
  },
  {
   "cell_type": "code",
   "execution_count": 52,
   "metadata": {},
   "outputs": [],
   "source": [
    "df['bio_stemmed'] = df['bio'].apply(lambda x: word_tokenize(x)).map(lambda x: [stemmer.stem(y) for y in x]).apply(' '.join)"
   ]
  },
  {
   "cell_type": "code",
   "execution_count": 53,
   "metadata": {},
   "outputs": [
    {
     "data": {
      "text/plain": [
       "0       bottom line love life work hard love hard eart...\n",
       "1       straightforward genuin fun love not serious pr...\n",
       "2       yummi tacosss yoga love life part content pers...\n",
       "3       stealth geek special mix technic obsess enough...\n",
       "4       whisper wind weav curl crash wave tide spit on...\n",
       "                              ...                        \n",
       "1996    grew play instrument sing music major uc berke...\n",
       "1997    23 year old femal born rais colorado spring wo...\n",
       "1998    spent last 10 year work outdoor industri main ...\n",
       "1999    spiritu life whatev go accept feel experi full...\n",
       "2000    love travel love food love wine love satisfor ...\n",
       "Name: bio_stemmed, Length: 2001, dtype: object"
      ]
     },
     "execution_count": 53,
     "metadata": {},
     "output_type": "execute_result"
    }
   ],
   "source": [
    "df['bio_stemmed']"
   ]
  },
  {
   "cell_type": "code",
   "execution_count": 54,
   "metadata": {},
   "outputs": [],
   "source": [
    "tfidf = TfidfVectorizer(min_df = 10)\n",
    "vectorized_bio_tfidf = tfidf.fit_transform(df.bio_stemmed.values)"
   ]
  },
  {
   "cell_type": "code",
   "execution_count": 55,
   "metadata": {},
   "outputs": [
    {
     "data": {
      "text/plain": [
       "<2001x1752 sparse matrix of type '<class 'numpy.float64'>'\n",
       "\twith 96947 stored elements in Compressed Sparse Row format>"
      ]
     },
     "execution_count": 55,
     "metadata": {},
     "output_type": "execute_result"
    }
   ],
   "source": [
    "vectorized_bio_tfidf"
   ]
  },
  {
   "cell_type": "markdown",
   "metadata": {},
   "source": [
    "## 4.2 Additional Features"
   ]
  },
  {
   "cell_type": "code",
   "execution_count": 56,
   "metadata": {},
   "outputs": [],
   "source": [
    "num_of_words_bio = df['bio_stemmed'].str.split().apply(len)"
   ]
  },
  {
   "cell_type": "code",
   "execution_count": 57,
   "metadata": {},
   "outputs": [
    {
     "data": {
      "text/plain": [
       "0        62\n",
       "1       327\n",
       "2        78\n",
       "3        56\n",
       "4        13\n",
       "       ... \n",
       "1996     56\n",
       "1997     64\n",
       "1998     94\n",
       "1999    108\n",
       "2000     10\n",
       "Name: bio_stemmed, Length: 2001, dtype: int64"
      ]
     },
     "execution_count": 57,
     "metadata": {},
     "output_type": "execute_result"
    }
   ],
   "source": [
    "num_of_words_bio"
   ]
  },
  {
   "cell_type": "code",
   "execution_count": 58,
   "metadata": {},
   "outputs": [],
   "source": [
    "df['words_per_bio'] = num_of_words_bio"
   ]
  },
  {
   "cell_type": "code",
   "execution_count": 59,
   "metadata": {},
   "outputs": [
    {
     "data": {
      "text/plain": [
       "array([ 62, 327,  78, ...,  94, 108,  10], dtype=int64)"
      ]
     },
     "execution_count": 59,
     "metadata": {},
     "output_type": "execute_result"
    }
   ],
   "source": [
    "df.words_per_bio.values"
   ]
  },
  {
   "cell_type": "code",
   "execution_count": 60,
   "metadata": {},
   "outputs": [],
   "source": [
    "scaler = StandardScaler()\n",
    "scaler.fit(df['words_per_bio'].values.reshape(-1, 1))\n",
    "df['words_per_bio1']=scaler.transform(df['words_per_bio'].values.reshape(-1, 1))"
   ]
  },
  {
   "cell_type": "code",
   "execution_count": 61,
   "metadata": {},
   "outputs": [
    {
     "data": {
      "text/plain": [
       "array([-0.10683988,  3.66126431,  0.1206683 , ...,  0.34817648,\n",
       "        0.54724613, -0.84624145])"
      ]
     },
     "execution_count": 61,
     "metadata": {},
     "output_type": "execute_result"
    }
   ],
   "source": [
    "df.words_per_bio1.values"
   ]
  },
  {
   "cell_type": "code",
   "execution_count": 62,
   "metadata": {},
   "outputs": [],
   "source": [
    "tfidf_username = TfidfVectorizer(ngram_range = (1,2), max_features = 10000)\n",
    "vectorized_username_tfidf = tfidf_username.fit_transform(df.username.values)"
   ]
  },
  {
   "cell_type": "code",
   "execution_count": 63,
   "metadata": {},
   "outputs": [
    {
     "data": {
      "text/plain": [
       "<2001x4181 sparse matrix of type '<class 'numpy.float64'>'\n",
       "\twith 6003 stored elements in Compressed Sparse Row format>"
      ]
     },
     "execution_count": 63,
     "metadata": {},
     "output_type": "execute_result"
    }
   ],
   "source": [
    "vectorized_username_tfidf"
   ]
  },
  {
   "cell_type": "markdown",
   "metadata": {},
   "source": [
    "## 4.3 'location' vectorized"
   ]
  },
  {
   "cell_type": "code",
   "execution_count": 64,
   "metadata": {},
   "outputs": [
    {
     "data": {
      "text/plain": [
       "san francisco  california       911\n",
       "oakland  california             250\n",
       "berkeley  california            146\n",
       "san mateo  california            56\n",
       "palo alto  california            45\n",
       "                               ... \n",
       "stockton  california              1\n",
       "foster city  california           1\n",
       "moss beach  california            1\n",
       "hacienda heights  california      1\n",
       "petaluma  california              1\n",
       "Name: location, Length: 70, dtype: int64"
      ]
     },
     "execution_count": 64,
     "metadata": {},
     "output_type": "execute_result"
    }
   ],
   "source": [
    "df['location'].value_counts()"
   ]
  },
  {
   "cell_type": "code",
   "execution_count": 65,
   "metadata": {},
   "outputs": [],
   "source": [
    "tfidf_loc = TfidfVectorizer()\n",
    "vectorized_loc_tfidf = tfidf_loc.fit_transform(df.location.values)"
   ]
  },
  {
   "cell_type": "code",
   "execution_count": 66,
   "metadata": {},
   "outputs": [
    {
     "data": {
      "text/plain": [
       "<2001x96 sparse matrix of type '<class 'numpy.float64'>'\n",
       "\twith 5349 stored elements in Compressed Sparse Row format>"
      ]
     },
     "execution_count": 66,
     "metadata": {},
     "output_type": "execute_result"
    }
   ],
   "source": [
    "vectorized_loc_tfidf"
   ]
  },
  {
   "cell_type": "markdown",
   "metadata": {},
   "source": [
    "## 4.4 'cleaned_language' vectorized"
   ]
  },
  {
   "cell_type": "code",
   "execution_count": 67,
   "metadata": {},
   "outputs": [],
   "source": [
    "df['cleaned_language'] = df['cleaned_language'].str.replace('_', ' ')"
   ]
  },
  {
   "cell_type": "code",
   "execution_count": 68,
   "metadata": {},
   "outputs": [
    {
     "data": {
      "text/plain": [
       "0       english fluently  spanish poorly  signlanguage...\n",
       "1          english fluently  tagalog okay  french poorly \n",
       "2       english fluently  signlanguage poorly  french ...\n",
       "3                                                 english\n",
       "4                                                 english\n",
       "                              ...                        \n",
       "1996                                              english\n",
       "1997                                              english\n",
       "1998                                              english\n",
       "1999                     english fluently  japanese okay \n",
       "2000                      english fluently  spanish okay \n",
       "Name: cleaned_language, Length: 2001, dtype: object"
      ]
     },
     "execution_count": 68,
     "metadata": {},
     "output_type": "execute_result"
    }
   ],
   "source": [
    "df['cleaned_language']"
   ]
  },
  {
   "cell_type": "code",
   "execution_count": 69,
   "metadata": {},
   "outputs": [],
   "source": [
    "df['cleaned_language']=df['cleaned_language'].apply(lambda x: word_tokenize(x)).map(lambda x: [stemmer.stem(y) for y in x]).apply(' '.join)"
   ]
  },
  {
   "cell_type": "markdown",
   "metadata": {},
   "source": [
    "### 4.4.1 tfidf on 'cleaned_language'"
   ]
  },
  {
   "cell_type": "code",
   "execution_count": 70,
   "metadata": {},
   "outputs": [],
   "source": [
    "tfidf_lang = TfidfVectorizer(ngram_range =(2,2))\n",
    "tfidf_lang.fit(df.cleaned_language.values)\n",
    "vectorized_lang_tfidf = tfidf_lang.transform(df.cleaned_language.values)"
   ]
  },
  {
   "cell_type": "code",
   "execution_count": 71,
   "metadata": {},
   "outputs": [
    {
     "data": {
      "text/plain": [
       "<2001x331 sparse matrix of type '<class 'numpy.float64'>'\n",
       "\twith 4952 stored elements in Compressed Sparse Row format>"
      ]
     },
     "execution_count": 71,
     "metadata": {},
     "output_type": "execute_result"
    }
   ],
   "source": [
    "vectorized_lang_tfidf"
   ]
  },
  {
   "cell_type": "markdown",
   "metadata": {},
   "source": [
    "## 4.5 One hot encoding the rest of the features"
   ]
  },
  {
   "cell_type": "code",
   "execution_count": 72,
   "metadata": {},
   "outputs": [],
   "source": [
    "def ohe(feature):\n",
    "    vectorizer = CountVectorizer()\n",
    "    vectorized_feature = vectorizer.fit_transform(feature.values)\n",
    "    return vectorized_feature\n"
   ]
  },
  {
   "cell_type": "code",
   "execution_count": 73,
   "metadata": {},
   "outputs": [],
   "source": [
    "status_vec = ohe(df['status'])"
   ]
  },
  {
   "cell_type": "code",
   "execution_count": 74,
   "metadata": {},
   "outputs": [],
   "source": [
    "orientation_vec = ohe(df['orientation'])"
   ]
  },
  {
   "cell_type": "code",
   "execution_count": 75,
   "metadata": {},
   "outputs": [],
   "source": [
    "drinks_vec = ohe(df['drinks'])"
   ]
  },
  {
   "cell_type": "code",
   "execution_count": 76,
   "metadata": {},
   "outputs": [],
   "source": [
    "drugs_vec = ohe(df['drugs'])"
   ]
  },
  {
   "cell_type": "code",
   "execution_count": 77,
   "metadata": {},
   "outputs": [],
   "source": [
    "df['job1'] = df['job'].str.replace('_', ' ')\n",
    "job_vec = ohe(df['job1'])"
   ]
  },
  {
   "cell_type": "code",
   "execution_count": 78,
   "metadata": {},
   "outputs": [],
   "source": [
    "df['pets1'] = df['pets'].str.replace('_', ' ')\n",
    "df['pets1']=df['pets1'].apply(lambda x: word_tokenize(x)).map(lambda x: [stemmer.stem(y) for y in x]).apply(' '.join)\n",
    "pets_vec = CountVectorizer().fit_transform(df.pets.values)"
   ]
  },
  {
   "cell_type": "code",
   "execution_count": 79,
   "metadata": {},
   "outputs": [],
   "source": [
    "smokes_vec = ohe(df['smokes'])"
   ]
  },
  {
   "cell_type": "code",
   "execution_count": 80,
   "metadata": {},
   "outputs": [],
   "source": [
    "df['new_languages1'] = df['new_languages'].str.replace('_', ' ')\n",
    "new_languages_vec = ohe(df['new_languages1'])"
   ]
  },
  {
   "cell_type": "code",
   "execution_count": 81,
   "metadata": {},
   "outputs": [],
   "source": [
    "df['body_profile1'] = df['body_profile'].str.replace('_', ' ')\n",
    "body_vec = ohe(df['body_profile'])"
   ]
  },
  {
   "cell_type": "code",
   "execution_count": 82,
   "metadata": {},
   "outputs": [],
   "source": [
    "dropped_vec = ohe(df['dropped_out'])"
   ]
  },
  {
   "cell_type": "code",
   "execution_count": 83,
   "metadata": {},
   "outputs": [],
   "source": [
    "interests_vec = ohe(df['interests'])"
   ]
  },
  {
   "cell_type": "code",
   "execution_count": 84,
   "metadata": {},
   "outputs": [],
   "source": [
    "other_interests_vec = ohe(df['other_interests'])"
   ]
  },
  {
   "cell_type": "code",
   "execution_count": 85,
   "metadata": {},
   "outputs": [],
   "source": [
    "df['location_preference1'] = df['location_preference'].str.replace('_', ' ')\n",
    "location_pref_vec = ohe(df['location_preference1'])"
   ]
  },
  {
   "cell_type": "code",
   "execution_count": 86,
   "metadata": {},
   "outputs": [
    {
     "data": {
      "text/plain": [
       "0       female\n",
       "1         male\n",
       "2       female\n",
       "3         male\n",
       "4       female\n",
       "         ...  \n",
       "1996      male\n",
       "1997    female\n",
       "1998      male\n",
       "1999      male\n",
       "2000    female\n",
       "Name: sex, Length: 2001, dtype: object"
      ]
     },
     "execution_count": 86,
     "metadata": {},
     "output_type": "execute_result"
    }
   ],
   "source": [
    "df['sex'] = df['sex'].apply(lambda x : 'female' if x == 'f' else 'male')\n",
    "df['sex']"
   ]
  },
  {
   "cell_type": "code",
   "execution_count": 87,
   "metadata": {},
   "outputs": [],
   "source": [
    "sex_vec = ohe(df['sex'])"
   ]
  },
  {
   "cell_type": "code",
   "execution_count": null,
   "metadata": {},
   "outputs": [],
   "source": []
  },
  {
   "cell_type": "markdown",
   "metadata": {},
   "source": [
    "## 4.6 Concatenating all the features"
   ]
  },
  {
   "cell_type": "code",
   "execution_count": 88,
   "metadata": {},
   "outputs": [],
   "source": [
    "X4 = hstack(((df['age1'].values).reshape(-1,1), status_vec, sex_vec, orientation_vec, drinks_vec, drugs_vec, (df['height1'].values).reshape(-1,1), job_vec, vectorized_loc_tfidf, pets_vec, smokes_vec, new_languages_vec, body_vec, (df['education_level1'].values).reshape(-1,1), dropped_vec, vectorized_bio_tfidf, interests_vec, other_interests_vec, location_pref_vec, vectorized_lang_tfidf, vectorized_username_tfidf, np.asarray(df['words_per_bio1']).reshape(-1,1))).tocsr()"
   ]
  },
  {
   "cell_type": "markdown",
   "metadata": {},
   "source": [
    "## 4.7 Evaluating the similarity matrix"
   ]
  },
  {
   "cell_type": "code",
   "execution_count": 89,
   "metadata": {},
   "outputs": [],
   "source": [
    "u_u_similarity = pairwise_distances(X4, metric = 'l2')"
   ]
  },
  {
   "cell_type": "code",
   "execution_count": 90,
   "metadata": {},
   "outputs": [
    {
     "data": {
      "text/plain": [
       "array([[0.        , 6.13272292, 5.76640517, ..., 5.57909853, 5.65215244,\n",
       "        5.71825852],\n",
       "       [6.13272292, 0.        , 6.38412392, ..., 5.59956562, 6.13268409,\n",
       "        6.97633429],\n",
       "       [5.76640517, 6.38412392, 0.        , ..., 6.08883337, 5.61693376,\n",
       "        5.92197512],\n",
       "       ...,\n",
       "       [5.57909853, 5.59956562, 6.08883337, ..., 0.        , 5.51813906,\n",
       "        5.68713109],\n",
       "       [5.65215244, 6.13268409, 5.61693376, ..., 5.51813906, 0.        ,\n",
       "        5.90187355],\n",
       "       [5.71825852, 6.97633429, 5.92197512, ..., 5.68713109, 5.90187355,\n",
       "        0.        ]])"
      ]
     },
     "execution_count": 90,
     "metadata": {},
     "output_type": "execute_result"
    }
   ],
   "source": [
    "u_u_similarity"
   ]
  },
  {
   "cell_type": "code",
   "execution_count": 91,
   "metadata": {},
   "outputs": [
    {
     "data": {
      "text/html": [
       "<div>\n",
       "<style scoped>\n",
       "    .dataframe tbody tr th:only-of-type {\n",
       "        vertical-align: middle;\n",
       "    }\n",
       "\n",
       "    .dataframe tbody tr th {\n",
       "        vertical-align: top;\n",
       "    }\n",
       "\n",
       "    .dataframe thead th {\n",
       "        text-align: right;\n",
       "    }\n",
       "</style>\n",
       "<table border=\"1\" class=\"dataframe\">\n",
       "  <thead>\n",
       "    <tr style=\"text-align: right;\">\n",
       "      <th></th>\n",
       "      <th>fffe3100</th>\n",
       "      <th>fffe3200</th>\n",
       "      <th>fffe3300</th>\n",
       "      <th>fffe3400</th>\n",
       "      <th>fffe3500</th>\n",
       "      <th>fffe3600</th>\n",
       "      <th>fffe3700</th>\n",
       "      <th>fffe3800</th>\n",
       "      <th>fffe3900</th>\n",
       "      <th>fffe31003000</th>\n",
       "      <th>...</th>\n",
       "      <th>fffe3100390039003200</th>\n",
       "      <th>fffe3100390039003300</th>\n",
       "      <th>fffe3100390039003400</th>\n",
       "      <th>fffe3100390039003500</th>\n",
       "      <th>fffe3100390039003600</th>\n",
       "      <th>fffe3100390039003700</th>\n",
       "      <th>fffe3100390039003800</th>\n",
       "      <th>fffe3100390039003900</th>\n",
       "      <th>fffe3200300030003000</th>\n",
       "      <th>fffe3200300030003100</th>\n",
       "    </tr>\n",
       "  </thead>\n",
       "  <tbody>\n",
       "    <tr>\n",
       "      <td>fffe3100</td>\n",
       "      <td>0.000000</td>\n",
       "      <td>6.132723</td>\n",
       "      <td>5.766405</td>\n",
       "      <td>5.347690</td>\n",
       "      <td>5.834462</td>\n",
       "      <td>5.668110</td>\n",
       "      <td>5.516057</td>\n",
       "      <td>5.382913</td>\n",
       "      <td>5.155689</td>\n",
       "      <td>5.541821</td>\n",
       "      <td>...</td>\n",
       "      <td>5.619036</td>\n",
       "      <td>5.656443</td>\n",
       "      <td>5.535685</td>\n",
       "      <td>5.859070</td>\n",
       "      <td>5.541232</td>\n",
       "      <td>5.446802</td>\n",
       "      <td>4.804407</td>\n",
       "      <td>5.579099</td>\n",
       "      <td>5.652152</td>\n",
       "      <td>5.718259</td>\n",
       "    </tr>\n",
       "    <tr>\n",
       "      <td>fffe3200</td>\n",
       "      <td>6.132723</td>\n",
       "      <td>0.000000</td>\n",
       "      <td>6.384124</td>\n",
       "      <td>6.452773</td>\n",
       "      <td>7.246734</td>\n",
       "      <td>6.485208</td>\n",
       "      <td>7.094419</td>\n",
       "      <td>7.011567</td>\n",
       "      <td>6.387219</td>\n",
       "      <td>7.156270</td>\n",
       "      <td>...</td>\n",
       "      <td>6.725306</td>\n",
       "      <td>6.644953</td>\n",
       "      <td>6.794882</td>\n",
       "      <td>7.671718</td>\n",
       "      <td>6.736145</td>\n",
       "      <td>6.421670</td>\n",
       "      <td>6.343492</td>\n",
       "      <td>5.599566</td>\n",
       "      <td>6.132684</td>\n",
       "      <td>6.976334</td>\n",
       "    </tr>\n",
       "    <tr>\n",
       "      <td>fffe3300</td>\n",
       "      <td>5.766405</td>\n",
       "      <td>6.384124</td>\n",
       "      <td>0.000000</td>\n",
       "      <td>5.286216</td>\n",
       "      <td>4.788862</td>\n",
       "      <td>5.228112</td>\n",
       "      <td>6.039573</td>\n",
       "      <td>5.868409</td>\n",
       "      <td>5.300056</td>\n",
       "      <td>6.427686</td>\n",
       "      <td>...</td>\n",
       "      <td>6.198032</td>\n",
       "      <td>5.999975</td>\n",
       "      <td>5.569495</td>\n",
       "      <td>6.760455</td>\n",
       "      <td>6.188193</td>\n",
       "      <td>5.115278</td>\n",
       "      <td>5.461100</td>\n",
       "      <td>6.088833</td>\n",
       "      <td>5.616934</td>\n",
       "      <td>5.921975</td>\n",
       "    </tr>\n",
       "    <tr>\n",
       "      <td>fffe3400</td>\n",
       "      <td>5.347690</td>\n",
       "      <td>6.452773</td>\n",
       "      <td>5.286216</td>\n",
       "      <td>0.000000</td>\n",
       "      <td>4.901971</td>\n",
       "      <td>4.807117</td>\n",
       "      <td>5.646562</td>\n",
       "      <td>5.103371</td>\n",
       "      <td>5.301393</td>\n",
       "      <td>5.744816</td>\n",
       "      <td>...</td>\n",
       "      <td>5.386540</td>\n",
       "      <td>5.475201</td>\n",
       "      <td>5.061661</td>\n",
       "      <td>6.211441</td>\n",
       "      <td>5.311470</td>\n",
       "      <td>4.629646</td>\n",
       "      <td>5.047031</td>\n",
       "      <td>5.447915</td>\n",
       "      <td>5.442622</td>\n",
       "      <td>5.970005</td>\n",
       "    </tr>\n",
       "    <tr>\n",
       "      <td>fffe3500</td>\n",
       "      <td>5.834462</td>\n",
       "      <td>7.246734</td>\n",
       "      <td>4.788862</td>\n",
       "      <td>4.901971</td>\n",
       "      <td>0.000000</td>\n",
       "      <td>4.836673</td>\n",
       "      <td>5.770238</td>\n",
       "      <td>5.743983</td>\n",
       "      <td>5.621205</td>\n",
       "      <td>5.960701</td>\n",
       "      <td>...</td>\n",
       "      <td>5.933455</td>\n",
       "      <td>6.126565</td>\n",
       "      <td>5.562834</td>\n",
       "      <td>6.757234</td>\n",
       "      <td>6.313643</td>\n",
       "      <td>4.298395</td>\n",
       "      <td>5.317554</td>\n",
       "      <td>6.052724</td>\n",
       "      <td>5.915677</td>\n",
       "      <td>5.945947</td>\n",
       "    </tr>\n",
       "    <tr>\n",
       "      <td>...</td>\n",
       "      <td>...</td>\n",
       "      <td>...</td>\n",
       "      <td>...</td>\n",
       "      <td>...</td>\n",
       "      <td>...</td>\n",
       "      <td>...</td>\n",
       "      <td>...</td>\n",
       "      <td>...</td>\n",
       "      <td>...</td>\n",
       "      <td>...</td>\n",
       "      <td>...</td>\n",
       "      <td>...</td>\n",
       "      <td>...</td>\n",
       "      <td>...</td>\n",
       "      <td>...</td>\n",
       "      <td>...</td>\n",
       "      <td>...</td>\n",
       "      <td>...</td>\n",
       "      <td>...</td>\n",
       "      <td>...</td>\n",
       "      <td>...</td>\n",
       "    </tr>\n",
       "    <tr>\n",
       "      <td>fffe3100390039003700</td>\n",
       "      <td>5.446802</td>\n",
       "      <td>6.421670</td>\n",
       "      <td>5.115278</td>\n",
       "      <td>4.629646</td>\n",
       "      <td>4.298395</td>\n",
       "      <td>4.641614</td>\n",
       "      <td>5.936605</td>\n",
       "      <td>4.752691</td>\n",
       "      <td>4.859758</td>\n",
       "      <td>6.037188</td>\n",
       "      <td>...</td>\n",
       "      <td>5.544807</td>\n",
       "      <td>5.000349</td>\n",
       "      <td>5.161665</td>\n",
       "      <td>6.581904</td>\n",
       "      <td>5.360558</td>\n",
       "      <td>0.000000</td>\n",
       "      <td>4.878607</td>\n",
       "      <td>5.193558</td>\n",
       "      <td>5.229968</td>\n",
       "      <td>5.415038</td>\n",
       "    </tr>\n",
       "    <tr>\n",
       "      <td>fffe3100390039003800</td>\n",
       "      <td>4.804407</td>\n",
       "      <td>6.343492</td>\n",
       "      <td>5.461100</td>\n",
       "      <td>5.047031</td>\n",
       "      <td>5.317554</td>\n",
       "      <td>5.020146</td>\n",
       "      <td>5.866356</td>\n",
       "      <td>5.564350</td>\n",
       "      <td>5.415188</td>\n",
       "      <td>6.170743</td>\n",
       "      <td>...</td>\n",
       "      <td>5.886260</td>\n",
       "      <td>5.644029</td>\n",
       "      <td>5.411937</td>\n",
       "      <td>6.540102</td>\n",
       "      <td>4.769360</td>\n",
       "      <td>4.878607</td>\n",
       "      <td>0.000000</td>\n",
       "      <td>4.817286</td>\n",
       "      <td>5.612033</td>\n",
       "      <td>5.593494</td>\n",
       "    </tr>\n",
       "    <tr>\n",
       "      <td>fffe3100390039003900</td>\n",
       "      <td>5.579099</td>\n",
       "      <td>5.599566</td>\n",
       "      <td>6.088833</td>\n",
       "      <td>5.447915</td>\n",
       "      <td>6.052724</td>\n",
       "      <td>5.319972</td>\n",
       "      <td>6.192934</td>\n",
       "      <td>5.476810</td>\n",
       "      <td>5.517059</td>\n",
       "      <td>6.152266</td>\n",
       "      <td>...</td>\n",
       "      <td>5.902632</td>\n",
       "      <td>5.139064</td>\n",
       "      <td>5.904928</td>\n",
       "      <td>6.676326</td>\n",
       "      <td>4.842800</td>\n",
       "      <td>5.193558</td>\n",
       "      <td>4.817286</td>\n",
       "      <td>0.000000</td>\n",
       "      <td>5.518139</td>\n",
       "      <td>5.687131</td>\n",
       "    </tr>\n",
       "    <tr>\n",
       "      <td>fffe3200300030003000</td>\n",
       "      <td>5.652152</td>\n",
       "      <td>6.132684</td>\n",
       "      <td>5.616934</td>\n",
       "      <td>5.442622</td>\n",
       "      <td>5.915677</td>\n",
       "      <td>5.245935</td>\n",
       "      <td>6.155067</td>\n",
       "      <td>5.360396</td>\n",
       "      <td>5.514868</td>\n",
       "      <td>5.974580</td>\n",
       "      <td>...</td>\n",
       "      <td>5.501861</td>\n",
       "      <td>5.105371</td>\n",
       "      <td>5.517475</td>\n",
       "      <td>6.485711</td>\n",
       "      <td>5.609000</td>\n",
       "      <td>5.229968</td>\n",
       "      <td>5.612033</td>\n",
       "      <td>5.518139</td>\n",
       "      <td>0.000000</td>\n",
       "      <td>5.901874</td>\n",
       "    </tr>\n",
       "    <tr>\n",
       "      <td>fffe3200300030003100</td>\n",
       "      <td>5.718259</td>\n",
       "      <td>6.976334</td>\n",
       "      <td>5.921975</td>\n",
       "      <td>5.970005</td>\n",
       "      <td>5.945947</td>\n",
       "      <td>5.889332</td>\n",
       "      <td>4.949464</td>\n",
       "      <td>5.306820</td>\n",
       "      <td>5.494346</td>\n",
       "      <td>6.618297</td>\n",
       "      <td>...</td>\n",
       "      <td>5.713888</td>\n",
       "      <td>5.354554</td>\n",
       "      <td>5.796610</td>\n",
       "      <td>6.302143</td>\n",
       "      <td>5.500429</td>\n",
       "      <td>5.415038</td>\n",
       "      <td>5.593494</td>\n",
       "      <td>5.687131</td>\n",
       "      <td>5.901874</td>\n",
       "      <td>0.000000</td>\n",
       "    </tr>\n",
       "  </tbody>\n",
       "</table>\n",
       "<p>2001 rows × 2001 columns</p>\n",
       "</div>"
      ],
      "text/plain": [
       "                      fffe3100  fffe3200  fffe3300  fffe3400  fffe3500  \\\n",
       "fffe3100              0.000000  6.132723  5.766405  5.347690  5.834462   \n",
       "fffe3200              6.132723  0.000000  6.384124  6.452773  7.246734   \n",
       "fffe3300              5.766405  6.384124  0.000000  5.286216  4.788862   \n",
       "fffe3400              5.347690  6.452773  5.286216  0.000000  4.901971   \n",
       "fffe3500              5.834462  7.246734  4.788862  4.901971  0.000000   \n",
       "...                        ...       ...       ...       ...       ...   \n",
       "fffe3100390039003700  5.446802  6.421670  5.115278  4.629646  4.298395   \n",
       "fffe3100390039003800  4.804407  6.343492  5.461100  5.047031  5.317554   \n",
       "fffe3100390039003900  5.579099  5.599566  6.088833  5.447915  6.052724   \n",
       "fffe3200300030003000  5.652152  6.132684  5.616934  5.442622  5.915677   \n",
       "fffe3200300030003100  5.718259  6.976334  5.921975  5.970005  5.945947   \n",
       "\n",
       "                      fffe3600  fffe3700  fffe3800  fffe3900  fffe31003000  \\\n",
       "fffe3100              5.668110  5.516057  5.382913  5.155689      5.541821   \n",
       "fffe3200              6.485208  7.094419  7.011567  6.387219      7.156270   \n",
       "fffe3300              5.228112  6.039573  5.868409  5.300056      6.427686   \n",
       "fffe3400              4.807117  5.646562  5.103371  5.301393      5.744816   \n",
       "fffe3500              4.836673  5.770238  5.743983  5.621205      5.960701   \n",
       "...                        ...       ...       ...       ...           ...   \n",
       "fffe3100390039003700  4.641614  5.936605  4.752691  4.859758      6.037188   \n",
       "fffe3100390039003800  5.020146  5.866356  5.564350  5.415188      6.170743   \n",
       "fffe3100390039003900  5.319972  6.192934  5.476810  5.517059      6.152266   \n",
       "fffe3200300030003000  5.245935  6.155067  5.360396  5.514868      5.974580   \n",
       "fffe3200300030003100  5.889332  4.949464  5.306820  5.494346      6.618297   \n",
       "\n",
       "                      ...  fffe3100390039003200  fffe3100390039003300  \\\n",
       "fffe3100              ...              5.619036              5.656443   \n",
       "fffe3200              ...              6.725306              6.644953   \n",
       "fffe3300              ...              6.198032              5.999975   \n",
       "fffe3400              ...              5.386540              5.475201   \n",
       "fffe3500              ...              5.933455              6.126565   \n",
       "...                   ...                   ...                   ...   \n",
       "fffe3100390039003700  ...              5.544807              5.000349   \n",
       "fffe3100390039003800  ...              5.886260              5.644029   \n",
       "fffe3100390039003900  ...              5.902632              5.139064   \n",
       "fffe3200300030003000  ...              5.501861              5.105371   \n",
       "fffe3200300030003100  ...              5.713888              5.354554   \n",
       "\n",
       "                      fffe3100390039003400  fffe3100390039003500  \\\n",
       "fffe3100                          5.535685              5.859070   \n",
       "fffe3200                          6.794882              7.671718   \n",
       "fffe3300                          5.569495              6.760455   \n",
       "fffe3400                          5.061661              6.211441   \n",
       "fffe3500                          5.562834              6.757234   \n",
       "...                                    ...                   ...   \n",
       "fffe3100390039003700              5.161665              6.581904   \n",
       "fffe3100390039003800              5.411937              6.540102   \n",
       "fffe3100390039003900              5.904928              6.676326   \n",
       "fffe3200300030003000              5.517475              6.485711   \n",
       "fffe3200300030003100              5.796610              6.302143   \n",
       "\n",
       "                      fffe3100390039003600  fffe3100390039003700  \\\n",
       "fffe3100                          5.541232              5.446802   \n",
       "fffe3200                          6.736145              6.421670   \n",
       "fffe3300                          6.188193              5.115278   \n",
       "fffe3400                          5.311470              4.629646   \n",
       "fffe3500                          6.313643              4.298395   \n",
       "...                                    ...                   ...   \n",
       "fffe3100390039003700              5.360558              0.000000   \n",
       "fffe3100390039003800              4.769360              4.878607   \n",
       "fffe3100390039003900              4.842800              5.193558   \n",
       "fffe3200300030003000              5.609000              5.229968   \n",
       "fffe3200300030003100              5.500429              5.415038   \n",
       "\n",
       "                      fffe3100390039003800  fffe3100390039003900  \\\n",
       "fffe3100                          4.804407              5.579099   \n",
       "fffe3200                          6.343492              5.599566   \n",
       "fffe3300                          5.461100              6.088833   \n",
       "fffe3400                          5.047031              5.447915   \n",
       "fffe3500                          5.317554              6.052724   \n",
       "...                                    ...                   ...   \n",
       "fffe3100390039003700              4.878607              5.193558   \n",
       "fffe3100390039003800              0.000000              4.817286   \n",
       "fffe3100390039003900              4.817286              0.000000   \n",
       "fffe3200300030003000              5.612033              5.518139   \n",
       "fffe3200300030003100              5.593494              5.687131   \n",
       "\n",
       "                      fffe3200300030003000  fffe3200300030003100  \n",
       "fffe3100                          5.652152              5.718259  \n",
       "fffe3200                          6.132684              6.976334  \n",
       "fffe3300                          5.616934              5.921975  \n",
       "fffe3400                          5.442622              5.970005  \n",
       "fffe3500                          5.915677              5.945947  \n",
       "...                                    ...                   ...  \n",
       "fffe3100390039003700              5.229968              5.415038  \n",
       "fffe3100390039003800              5.612033              5.593494  \n",
       "fffe3100390039003900              5.518139              5.687131  \n",
       "fffe3200300030003000              0.000000              5.901874  \n",
       "fffe3200300030003100              5.901874              0.000000  \n",
       "\n",
       "[2001 rows x 2001 columns]"
      ]
     },
     "execution_count": 91,
     "metadata": {},
     "output_type": "execute_result"
    }
   ],
   "source": [
    "index_values = list(df['user_id'])\n",
    "column_values = list(df['user_id'])\n",
    "df_submission = pd.DataFrame(data = u_u_similarity,  \n",
    "                  index = index_values,  \n",
    "                  columns = column_values)\n",
    "\n",
    "df_submission"
   ]
  },
  {
   "cell_type": "code",
   "execution_count": 92,
   "metadata": {},
   "outputs": [],
   "source": [
    "user_id_dict = dict(zip(np.arange(len(index_values)), index_values))"
   ]
  },
  {
   "cell_type": "code",
   "execution_count": 93,
   "metadata": {},
   "outputs": [],
   "source": [
    "#Applying the condition set by HackerEarth\n",
    "\n",
    "for user_i in list(user_id_dict.keys()):\n",
    "    for user_j in list(user_id_dict.keys()):\n",
    "        if df['orientation'][user_i] == 'straight':\n",
    "            if df['sex'][user_i] == df['sex'][user_j] and df['orientation'][user_j] == 'straight':\n",
    "                df_submission[user_id_dict[user_i]][user_j] = 0\n",
    "        elif df['orientation'][user_i] == 'gay':\n",
    "            if df['sex'][user_i] != df['sex'][user_j] and df['orientation'][user_j] == 'gay':\n",
    "                df_submission[user_id_dict[user_i]][user_j] = 0\n",
    "        else:\n",
    "            continue\n",
    "\n"
   ]
  },
  {
   "cell_type": "code",
   "execution_count": 94,
   "metadata": {},
   "outputs": [],
   "source": [
    "df_submission.to_csv('submission.csv', index_label = 'user_id')"
   ]
  },
  {
   "cell_type": "code",
   "execution_count": null,
   "metadata": {},
   "outputs": [],
   "source": []
  },
  {
   "cell_type": "code",
   "execution_count": null,
   "metadata": {},
   "outputs": [],
   "source": []
  }
 ],
 "metadata": {
  "kernelspec": {
   "display_name": "Python 3",
   "language": "python",
   "name": "python3"
  },
  "language_info": {
   "codemirror_mode": {
    "name": "ipython",
    "version": 3
   },
   "file_extension": ".py",
   "mimetype": "text/x-python",
   "name": "python",
   "nbconvert_exporter": "python",
   "pygments_lexer": "ipython3",
   "version": "3.7.4"
  }
 },
 "nbformat": 4,
 "nbformat_minor": 2
}
